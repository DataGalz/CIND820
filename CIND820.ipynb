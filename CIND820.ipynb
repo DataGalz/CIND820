{
  "nbformat": 4,
  "nbformat_minor": 0,
  "metadata": {
    "colab": {
      "name": "Copy of CIND820.ipynb",
      "provenance": [],
      "collapsed_sections": [],
      "authorship_tag": "ABX9TyNjDuU1xiZGOLRtn7lhCRtg",
      "include_colab_link": true
    },
    "kernelspec": {
      "name": "python3",
      "display_name": "Python 3"
    },
    "language_info": {
      "name": "python"
    }
  },
  "cells": [
    {
      "cell_type": "markdown",
      "metadata": {
        "id": "view-in-github",
        "colab_type": "text"
      },
      "source": [
        "<a href=\"https://colab.research.google.com/github/DataGalz/CIND820/blob/main/CIND820.ipynb\" target=\"_parent\"><img src=\"https://colab.research.google.com/assets/colab-badge.svg\" alt=\"Open In Colab\"/></a>"
      ]
    },
    {
      "cell_type": "code",
      "metadata": {
        "id": "uHaru-u08cJP"
      },
      "source": [
        "\n",
        "import pandas as pd\n",
        "import numpy as np\n",
        "import seaborn as sns\n",
        "import matplotlib.pyplot as plt\n",
        "%matplotlib inline\n",
        "\n"
      ],
      "execution_count": 2,
      "outputs": []
    },
    {
      "cell_type": "code",
      "metadata": {
        "id": "8odir_zB8rZm",
        "colab": {
          "base_uri": "https://localhost:8080/"
        },
        "outputId": "e869aef7-0a0f-4572-a60c-def27ce6adc6"
      },
      "source": [
        "\n",
        "url = 'https://raw.githubusercontent.com/DataGalz/CIND820/main/BCPI_MONTHLY-sd-1972-01-01.csv'\n",
        "\n",
        "data = pd.read_csv(url)\n",
        "df = pd.DataFrame(data)\n",
        "print(df)\n",
        "#converted the data into a dataframe\n",
        "\n",
        "\n"
      ],
      "execution_count": 3,
      "outputs": [
        {
          "output_type": "stream",
          "name": "stdout",
          "text": [
            "           date  M.BCPI  M.BCNE   M.ENER  M.MTLS   M.FOPR  M.AGRI   M.FISH\n",
            "0    1972-01-01  100.00  100.00   100.00  100.00   100.00  100.00   100.00\n",
            "1    1972-02-01  100.40  100.53    99.78  100.74   100.12  101.20    88.89\n",
            "2    1972-03-01  101.11  101.35   100.05  101.38   100.24  102.53    98.97\n",
            "3    1972-04-01  101.16  101.45    99.84  101.21   100.95  102.08   103.10\n",
            "4    1972-05-01  101.88  102.30   100.00  101.25   102.32  103.53    86.30\n",
            "..          ...     ...     ...      ...     ...      ...     ...      ...\n",
            "592  2021-05-01  603.08  524.90  1173.22  733.52  1101.94  310.20  1451.32\n",
            "593  2021-06-01  606.63  488.98  1289.50  720.94   838.80  306.31  1534.54\n",
            "594  2021-07-01  593.87  455.44  1334.47  730.52   536.88  321.88  1737.96\n",
            "595  2021-08-01  568.19  440.31  1261.77  738.36   437.00  328.36  1658.92\n",
            "596  2021-09-01  596.69  446.58  1378.81  749.09   477.69  315.44  1718.73\n",
            "\n",
            "[597 rows x 8 columns]\n"
          ]
        }
      ]
    },
    {
      "cell_type": "code",
      "metadata": {
        "id": "Ns7tqNSBPgPk",
        "colab": {
          "base_uri": "https://localhost:8080/"
        },
        "outputId": "e8468959-93c3-4f11-8bef-bd7b99bbb238"
      },
      "source": [
        "df.dtypes\n",
        "#checking the type of data"
      ],
      "execution_count": 4,
      "outputs": [
        {
          "output_type": "execute_result",
          "data": {
            "text/plain": [
              "date       object\n",
              "M.BCPI    float64\n",
              "M.BCNE    float64\n",
              "M.ENER    float64\n",
              "M.MTLS    float64\n",
              "M.FOPR    float64\n",
              "M.AGRI    float64\n",
              "M.FISH    float64\n",
              "dtype: object"
            ]
          },
          "metadata": {},
          "execution_count": 4
        }
      ]
    },
    {
      "cell_type": "code",
      "metadata": {
        "colab": {
          "base_uri": "https://localhost:8080/",
          "height": 204
        },
        "id": "Op0RURYLXBef",
        "outputId": "fad3cd78-b616-4dfe-b349-8dcc4d3ef0bd"
      },
      "source": [
        "df.head(5)\n",
        "# the first 5 rows of the data"
      ],
      "execution_count": 5,
      "outputs": [
        {
          "output_type": "execute_result",
          "data": {
            "text/html": [
              "<div>\n",
              "<style scoped>\n",
              "    .dataframe tbody tr th:only-of-type {\n",
              "        vertical-align: middle;\n",
              "    }\n",
              "\n",
              "    .dataframe tbody tr th {\n",
              "        vertical-align: top;\n",
              "    }\n",
              "\n",
              "    .dataframe thead th {\n",
              "        text-align: right;\n",
              "    }\n",
              "</style>\n",
              "<table border=\"1\" class=\"dataframe\">\n",
              "  <thead>\n",
              "    <tr style=\"text-align: right;\">\n",
              "      <th></th>\n",
              "      <th>date</th>\n",
              "      <th>M.BCPI</th>\n",
              "      <th>M.BCNE</th>\n",
              "      <th>M.ENER</th>\n",
              "      <th>M.MTLS</th>\n",
              "      <th>M.FOPR</th>\n",
              "      <th>M.AGRI</th>\n",
              "      <th>M.FISH</th>\n",
              "    </tr>\n",
              "  </thead>\n",
              "  <tbody>\n",
              "    <tr>\n",
              "      <th>0</th>\n",
              "      <td>1972-01-01</td>\n",
              "      <td>100.00</td>\n",
              "      <td>100.00</td>\n",
              "      <td>100.00</td>\n",
              "      <td>100.00</td>\n",
              "      <td>100.00</td>\n",
              "      <td>100.00</td>\n",
              "      <td>100.00</td>\n",
              "    </tr>\n",
              "    <tr>\n",
              "      <th>1</th>\n",
              "      <td>1972-02-01</td>\n",
              "      <td>100.40</td>\n",
              "      <td>100.53</td>\n",
              "      <td>99.78</td>\n",
              "      <td>100.74</td>\n",
              "      <td>100.12</td>\n",
              "      <td>101.20</td>\n",
              "      <td>88.89</td>\n",
              "    </tr>\n",
              "    <tr>\n",
              "      <th>2</th>\n",
              "      <td>1972-03-01</td>\n",
              "      <td>101.11</td>\n",
              "      <td>101.35</td>\n",
              "      <td>100.05</td>\n",
              "      <td>101.38</td>\n",
              "      <td>100.24</td>\n",
              "      <td>102.53</td>\n",
              "      <td>98.97</td>\n",
              "    </tr>\n",
              "    <tr>\n",
              "      <th>3</th>\n",
              "      <td>1972-04-01</td>\n",
              "      <td>101.16</td>\n",
              "      <td>101.45</td>\n",
              "      <td>99.84</td>\n",
              "      <td>101.21</td>\n",
              "      <td>100.95</td>\n",
              "      <td>102.08</td>\n",
              "      <td>103.10</td>\n",
              "    </tr>\n",
              "    <tr>\n",
              "      <th>4</th>\n",
              "      <td>1972-05-01</td>\n",
              "      <td>101.88</td>\n",
              "      <td>102.30</td>\n",
              "      <td>100.00</td>\n",
              "      <td>101.25</td>\n",
              "      <td>102.32</td>\n",
              "      <td>103.53</td>\n",
              "      <td>86.30</td>\n",
              "    </tr>\n",
              "  </tbody>\n",
              "</table>\n",
              "</div>"
            ],
            "text/plain": [
              "         date  M.BCPI  M.BCNE  M.ENER  M.MTLS  M.FOPR  M.AGRI  M.FISH\n",
              "0  1972-01-01  100.00  100.00  100.00  100.00  100.00  100.00  100.00\n",
              "1  1972-02-01  100.40  100.53   99.78  100.74  100.12  101.20   88.89\n",
              "2  1972-03-01  101.11  101.35  100.05  101.38  100.24  102.53   98.97\n",
              "3  1972-04-01  101.16  101.45   99.84  101.21  100.95  102.08  103.10\n",
              "4  1972-05-01  101.88  102.30  100.00  101.25  102.32  103.53   86.30"
            ]
          },
          "metadata": {},
          "execution_count": 5
        }
      ]
    },
    {
      "cell_type": "code",
      "metadata": {
        "colab": {
          "base_uri": "https://localhost:8080/",
          "height": 204
        },
        "id": "jflwNc38Ys_1",
        "outputId": "ca810a33-b8fc-4c16-f44b-a34d3747c270"
      },
      "source": [
        "df.tail(5)\n",
        "#the last 5 rows of the data"
      ],
      "execution_count": 6,
      "outputs": [
        {
          "output_type": "execute_result",
          "data": {
            "text/html": [
              "<div>\n",
              "<style scoped>\n",
              "    .dataframe tbody tr th:only-of-type {\n",
              "        vertical-align: middle;\n",
              "    }\n",
              "\n",
              "    .dataframe tbody tr th {\n",
              "        vertical-align: top;\n",
              "    }\n",
              "\n",
              "    .dataframe thead th {\n",
              "        text-align: right;\n",
              "    }\n",
              "</style>\n",
              "<table border=\"1\" class=\"dataframe\">\n",
              "  <thead>\n",
              "    <tr style=\"text-align: right;\">\n",
              "      <th></th>\n",
              "      <th>date</th>\n",
              "      <th>M.BCPI</th>\n",
              "      <th>M.BCNE</th>\n",
              "      <th>M.ENER</th>\n",
              "      <th>M.MTLS</th>\n",
              "      <th>M.FOPR</th>\n",
              "      <th>M.AGRI</th>\n",
              "      <th>M.FISH</th>\n",
              "    </tr>\n",
              "  </thead>\n",
              "  <tbody>\n",
              "    <tr>\n",
              "      <th>592</th>\n",
              "      <td>2021-05-01</td>\n",
              "      <td>603.08</td>\n",
              "      <td>524.90</td>\n",
              "      <td>1173.22</td>\n",
              "      <td>733.52</td>\n",
              "      <td>1101.94</td>\n",
              "      <td>310.20</td>\n",
              "      <td>1451.32</td>\n",
              "    </tr>\n",
              "    <tr>\n",
              "      <th>593</th>\n",
              "      <td>2021-06-01</td>\n",
              "      <td>606.63</td>\n",
              "      <td>488.98</td>\n",
              "      <td>1289.50</td>\n",
              "      <td>720.94</td>\n",
              "      <td>838.80</td>\n",
              "      <td>306.31</td>\n",
              "      <td>1534.54</td>\n",
              "    </tr>\n",
              "    <tr>\n",
              "      <th>594</th>\n",
              "      <td>2021-07-01</td>\n",
              "      <td>593.87</td>\n",
              "      <td>455.44</td>\n",
              "      <td>1334.47</td>\n",
              "      <td>730.52</td>\n",
              "      <td>536.88</td>\n",
              "      <td>321.88</td>\n",
              "      <td>1737.96</td>\n",
              "    </tr>\n",
              "    <tr>\n",
              "      <th>595</th>\n",
              "      <td>2021-08-01</td>\n",
              "      <td>568.19</td>\n",
              "      <td>440.31</td>\n",
              "      <td>1261.77</td>\n",
              "      <td>738.36</td>\n",
              "      <td>437.00</td>\n",
              "      <td>328.36</td>\n",
              "      <td>1658.92</td>\n",
              "    </tr>\n",
              "    <tr>\n",
              "      <th>596</th>\n",
              "      <td>2021-09-01</td>\n",
              "      <td>596.69</td>\n",
              "      <td>446.58</td>\n",
              "      <td>1378.81</td>\n",
              "      <td>749.09</td>\n",
              "      <td>477.69</td>\n",
              "      <td>315.44</td>\n",
              "      <td>1718.73</td>\n",
              "    </tr>\n",
              "  </tbody>\n",
              "</table>\n",
              "</div>"
            ],
            "text/plain": [
              "           date  M.BCPI  M.BCNE   M.ENER  M.MTLS   M.FOPR  M.AGRI   M.FISH\n",
              "592  2021-05-01  603.08  524.90  1173.22  733.52  1101.94  310.20  1451.32\n",
              "593  2021-06-01  606.63  488.98  1289.50  720.94   838.80  306.31  1534.54\n",
              "594  2021-07-01  593.87  455.44  1334.47  730.52   536.88  321.88  1737.96\n",
              "595  2021-08-01  568.19  440.31  1261.77  738.36   437.00  328.36  1658.92\n",
              "596  2021-09-01  596.69  446.58  1378.81  749.09   477.69  315.44  1718.73"
            ]
          },
          "metadata": {},
          "execution_count": 6
        }
      ]
    },
    {
      "cell_type": "code",
      "metadata": {
        "colab": {
          "base_uri": "https://localhost:8080/"
        },
        "id": "vrxTBueJ03-3",
        "outputId": "b54d585e-9208-419f-e334-827ff341baaa"
      },
      "source": [
        "df_new = df.rename(columns={'M.BCPI': 'Total_CPI', 'M.AGRI': 'CPI_Agri', 'M.BCNE': 'CPI_NonEner', 'M.ENER': 'CPI_Ener','M.MTLS': 'CPI_Metals', 'M.FOPR': 'CPI_Forst', 'M.FISH': 'CPI_Fish'})\n",
        "print(df_new)"
      ],
      "execution_count": 7,
      "outputs": [
        {
          "output_type": "stream",
          "name": "stdout",
          "text": [
            "           date  Total_CPI  CPI_NonEner  ...  CPI_Forst  CPI_Agri  CPI_Fish\n",
            "0    1972-01-01     100.00       100.00  ...     100.00    100.00    100.00\n",
            "1    1972-02-01     100.40       100.53  ...     100.12    101.20     88.89\n",
            "2    1972-03-01     101.11       101.35  ...     100.24    102.53     98.97\n",
            "3    1972-04-01     101.16       101.45  ...     100.95    102.08    103.10\n",
            "4    1972-05-01     101.88       102.30  ...     102.32    103.53     86.30\n",
            "..          ...        ...          ...  ...        ...       ...       ...\n",
            "592  2021-05-01     603.08       524.90  ...    1101.94    310.20   1451.32\n",
            "593  2021-06-01     606.63       488.98  ...     838.80    306.31   1534.54\n",
            "594  2021-07-01     593.87       455.44  ...     536.88    321.88   1737.96\n",
            "595  2021-08-01     568.19       440.31  ...     437.00    328.36   1658.92\n",
            "596  2021-09-01     596.69       446.58  ...     477.69    315.44   1718.73\n",
            "\n",
            "[597 rows x 8 columns]\n"
          ]
        }
      ]
    },
    {
      "cell_type": "code",
      "metadata": {
        "colab": {
          "base_uri": "https://localhost:8080/",
          "height": 297
        },
        "id": "pRAumZ9IY0sH",
        "outputId": "f62a8982-e0d3-4166-d89f-864a9c1730d8"
      },
      "source": [
        "df_new.describe()\n",
        "#describe the data\n"
      ],
      "execution_count": 21,
      "outputs": [
        {
          "output_type": "execute_result",
          "data": {
            "text/html": [
              "<div>\n",
              "<style scoped>\n",
              "    .dataframe tbody tr th:only-of-type {\n",
              "        vertical-align: middle;\n",
              "    }\n",
              "\n",
              "    .dataframe tbody tr th {\n",
              "        vertical-align: top;\n",
              "    }\n",
              "\n",
              "    .dataframe thead th {\n",
              "        text-align: right;\n",
              "    }\n",
              "</style>\n",
              "<table border=\"1\" class=\"dataframe\">\n",
              "  <thead>\n",
              "    <tr style=\"text-align: right;\">\n",
              "      <th></th>\n",
              "      <th>Total_CPI</th>\n",
              "      <th>CPI_NonEner</th>\n",
              "      <th>CPI_Ener</th>\n",
              "      <th>CPI_Metals</th>\n",
              "      <th>CPI_Forst</th>\n",
              "      <th>CPI_Agri</th>\n",
              "      <th>CPI_Fish</th>\n",
              "    </tr>\n",
              "  </thead>\n",
              "  <tbody>\n",
              "    <tr>\n",
              "      <th>count</th>\n",
              "      <td>597.000000</td>\n",
              "      <td>597.00000</td>\n",
              "      <td>597.000000</td>\n",
              "      <td>597.000000</td>\n",
              "      <td>597.000000</td>\n",
              "      <td>597.000000</td>\n",
              "      <td>597.000000</td>\n",
              "    </tr>\n",
              "    <tr>\n",
              "      <th>mean</th>\n",
              "      <td>342.790369</td>\n",
              "      <td>253.76072</td>\n",
              "      <td>759.306265</td>\n",
              "      <td>360.757705</td>\n",
              "      <td>282.288224</td>\n",
              "      <td>191.433317</td>\n",
              "      <td>683.961642</td>\n",
              "    </tr>\n",
              "    <tr>\n",
              "      <th>std</th>\n",
              "      <td>148.170932</td>\n",
              "      <td>79.38940</td>\n",
              "      <td>477.890514</td>\n",
              "      <td>177.418661</td>\n",
              "      <td>107.034746</td>\n",
              "      <td>46.860202</td>\n",
              "      <td>403.135415</td>\n",
              "    </tr>\n",
              "    <tr>\n",
              "      <th>min</th>\n",
              "      <td>100.000000</td>\n",
              "      <td>100.00000</td>\n",
              "      <td>99.780000</td>\n",
              "      <td>100.000000</td>\n",
              "      <td>100.000000</td>\n",
              "      <td>100.000000</td>\n",
              "      <td>86.300000</td>\n",
              "    </tr>\n",
              "    <tr>\n",
              "      <th>25%</th>\n",
              "      <td>250.800000</td>\n",
              "      <td>197.67000</td>\n",
              "      <td>407.970000</td>\n",
              "      <td>237.160000</td>\n",
              "      <td>201.320000</td>\n",
              "      <td>160.550000</td>\n",
              "      <td>262.270000</td>\n",
              "    </tr>\n",
              "    <tr>\n",
              "      <th>50%</th>\n",
              "      <td>286.330000</td>\n",
              "      <td>232.47000</td>\n",
              "      <td>635.920000</td>\n",
              "      <td>283.060000</td>\n",
              "      <td>278.370000</td>\n",
              "      <td>178.300000</td>\n",
              "      <td>717.250000</td>\n",
              "    </tr>\n",
              "    <tr>\n",
              "      <th>75%</th>\n",
              "      <td>420.880000</td>\n",
              "      <td>320.50000</td>\n",
              "      <td>982.080000</td>\n",
              "      <td>536.440000</td>\n",
              "      <td>337.070000</td>\n",
              "      <td>210.920000</td>\n",
              "      <td>985.100000</td>\n",
              "    </tr>\n",
              "    <tr>\n",
              "      <th>max</th>\n",
              "      <td>881.310000</td>\n",
              "      <td>524.90000</td>\n",
              "      <td>2755.750000</td>\n",
              "      <td>779.920000</td>\n",
              "      <td>1101.940000</td>\n",
              "      <td>328.360000</td>\n",
              "      <td>1831.730000</td>\n",
              "    </tr>\n",
              "  </tbody>\n",
              "</table>\n",
              "</div>"
            ],
            "text/plain": [
              "        Total_CPI  CPI_NonEner  ...    CPI_Agri     CPI_Fish\n",
              "count  597.000000    597.00000  ...  597.000000   597.000000\n",
              "mean   342.790369    253.76072  ...  191.433317   683.961642\n",
              "std    148.170932     79.38940  ...   46.860202   403.135415\n",
              "min    100.000000    100.00000  ...  100.000000    86.300000\n",
              "25%    250.800000    197.67000  ...  160.550000   262.270000\n",
              "50%    286.330000    232.47000  ...  178.300000   717.250000\n",
              "75%    420.880000    320.50000  ...  210.920000   985.100000\n",
              "max    881.310000    524.90000  ...  328.360000  1831.730000\n",
              "\n",
              "[8 rows x 7 columns]"
            ]
          },
          "metadata": {},
          "execution_count": 21
        }
      ]
    },
    {
      "cell_type": "code",
      "metadata": {
        "colab": {
          "base_uri": "https://localhost:8080/",
          "height": 336
        },
        "id": "_w2XSTFbco6q",
        "outputId": "08146dbf-7ad4-4110-98e6-0c6f9f5b6fd0"
      },
      "source": [
        "sns.distplot(df['Total_CPI']);"
      ],
      "execution_count": 22,
      "outputs": [
        {
          "output_type": "stream",
          "name": "stderr",
          "text": [
            "/usr/local/lib/python3.7/dist-packages/seaborn/distributions.py:2619: FutureWarning: `distplot` is a deprecated function and will be removed in a future version. Please adapt your code to use either `displot` (a figure-level function with similar flexibility) or `histplot` (an axes-level function for histograms).\n",
            "  warnings.warn(msg, FutureWarning)\n"
          ]
        },
        {
          "output_type": "display_data",
          "data": {
            "image/png": "[encoded data removed]",
            "text/plain": [
              "<Figure size 432x288 with 1 Axes>"
            ]
          },
          "metadata": {
            "needs_background": "light"
          }
        }
      ]
    },
    {
      "cell_type": "code",
      "metadata": {
        "colab": {
          "base_uri": "https://localhost:8080/"
        },
        "id": "QRvhjp1CczuE",
        "outputId": "d3a79d26-4818-4e45-b2fc-37b89ed8e025"
      },
      "source": [
        "print(\"Skewness: %f\" % df['Total_CPI'].skew())\n",
        "print(\"Kurtosis: %f\" % df['Total_CPI'].kurt())"
      ],
      "execution_count": 23,
      "outputs": [
        {
          "output_type": "stream",
          "name": "stdout",
          "text": [
            "Skewness: 0.950204\n",
            "Kurtosis: 0.217021\n"
          ]
        }
      ]
    },
    {
      "cell_type": "markdown",
      "metadata": {
        "id": "4DUim3naczZO"
      },
      "source": [
        ""
      ]
    },
    {
      "cell_type": "code",
      "metadata": {
        "colab": {
          "base_uri": "https://localhost:8080/"
        },
        "id": "haxIMudkuvNP",
        "outputId": "95e37749-7ed5-4b84-f968-dec4e2420c6d"
      },
      "source": [
        "min(df_new.CPI_Agri)\n",
        "#checking the year and month where the CPI was lowest"
      ],
      "execution_count": 9,
      "outputs": [
        {
          "output_type": "execute_result",
          "data": {
            "text/plain": [
              "100.0"
            ]
          },
          "metadata": {},
          "execution_count": 9
        }
      ]
    },
    {
      "cell_type": "code",
      "metadata": {
        "colab": {
          "base_uri": "https://localhost:8080/"
        },
        "id": "CRZ4xnDFu7pV",
        "outputId": "fa9f401e-63c3-40db-fc57-60b8344bbcac"
      },
      "source": [
        "max(df_new.CPI_Agri)\n",
        "\n",
        "#checking the year and month where the CPI was highest"
      ],
      "execution_count": 10,
      "outputs": [
        {
          "output_type": "execute_result",
          "data": {
            "text/plain": [
              "328.36"
            ]
          },
          "metadata": {},
          "execution_count": 10
        }
      ]
    },
    {
      "cell_type": "code",
      "metadata": {
        "colab": {
          "base_uri": "https://localhost:8080/",
          "height": 35
        },
        "id": "RPTpHyqf25bb",
        "outputId": "0448351c-848a-4bd3-9315-ae358e4bbd49"
      },
      "source": [
        "max(df_new.date)"
      ],
      "execution_count": 11,
      "outputs": [
        {
          "output_type": "execute_result",
          "data": {
            "application/vnd.google.colaboratory.intrinsic+json": {
              "type": "string"
            },
            "text/plain": [
              "'2021-09-01'"
            ]
          },
          "metadata": {},
          "execution_count": 11
        }
      ]
    },
    {
      "cell_type": "code",
      "metadata": {
        "colab": {
          "base_uri": "https://localhost:8080/"
        },
        "id": "cH9AZUETvJXl",
        "outputId": "73428f8f-71a6-45c0-a6ef-d574dcd0d73c"
      },
      "source": [
        "df_new.isnull().sum()\n",
        "#checking for null values"
      ],
      "execution_count": 12,
      "outputs": [
        {
          "output_type": "execute_result",
          "data": {
            "text/plain": [
              "date           0\n",
              "Total_CPI      0\n",
              "CPI_NonEner    0\n",
              "CPI_Ener       0\n",
              "CPI_Metals     0\n",
              "CPI_Forst      0\n",
              "CPI_Agri       0\n",
              "CPI_Fish       0\n",
              "dtype: int64"
            ]
          },
          "metadata": {},
          "execution_count": 12
        }
      ]
    },
    {
      "cell_type": "code",
      "metadata": {
        "colab": {
          "base_uri": "https://localhost:8080/",
          "height": 694
        },
        "id": "v6N5_yJr9yzA",
        "outputId": "14aebe73-508f-47a1-9ced-e91a569caeaf"
      },
      "source": [
        "df_new.corrwith(df_new.Total_CPI).plot.bar(\n",
        "figsize = (20, 10), title = \"Total CPI Correlation with other variables\", fontsize = 15, rot = 45, grid = False)"
      ],
      "execution_count": 13,
      "outputs": [
        {
          "output_type": "execute_result",
          "data": {
            "text/plain": [
              "<matplotlib.axes._subplots.AxesSubplot at 0x7f79cb482390>"
            ]
          },
          "metadata": {},
          "execution_count": 13
        },
        {
          "output_type": "display_data",
          "data": {
            "image/png": "[encoded data removed]",
            "text/plain": [
              "<Figure size 1440x720 with 1 Axes>"
            ]
          },
          "metadata": {
            "needs_background": "light"
          }
        }
      ]
    },
    {
      "cell_type": "code",
      "metadata": {
        "colab": {
          "base_uri": "https://localhost:8080/",
          "height": 296
        },
        "id": "iOWhKbgggj8a",
        "outputId": "29a54afa-d117-4389-fc8c-f7e29adb056e"
      },
      "source": [
        "ax = df_new.plot(x='date', y='Total_CPI', rot=0)\n",
        "plt.legend()\n"
      ],
      "execution_count": 14,
      "outputs": [
        {
          "output_type": "execute_result",
          "data": {
            "text/plain": [
              "<matplotlib.legend.Legend at 0x7f79cb5107d0>"
            ]
          },
          "metadata": {},
          "execution_count": 14
        },
        {
          "output_type": "display_data",
          "data": {
            "image/png": "[encoded data removed]",
            "text/plain": [
              "<Figure size 432x288 with 1 Axes>"
            ]
          },
          "metadata": {
            "needs_background": "light"
          }
        }
      ]
    },
    {
      "cell_type": "code",
      "metadata": {
        "id": "87CYd8Z3cZl3",
        "colab": {
          "base_uri": "https://localhost:8080/",
          "height": 574
        },
        "outputId": "a2d29e11-e9b6-4680-d641-a01cb202d34d"
      },
      "source": [
        "plt.figure(figsize=(10,5))\n",
        "cor= df_new.corr()\n",
        "sns.heatmap(cor,cmap=\"BrBG\",annot=True)\n",
        "cor\n",
        "\n",
        "#checking correcation of data to identify attributes that are highly correlated with each other"
      ],
      "execution_count": 15,
      "outputs": [
        {
          "output_type": "execute_result",
          "data": {
            "text/html": [
              "<div>\n",
              "<style scoped>\n",
              "    .dataframe tbody tr th:only-of-type {\n",
              "        vertical-align: middle;\n",
              "    }\n",
              "\n",
              "    .dataframe tbody tr th {\n",
              "        vertical-align: top;\n",
              "    }\n",
              "\n",
              "    .dataframe thead th {\n",
              "        text-align: right;\n",
              "    }\n",
              "</style>\n",
              "<table border=\"1\" class=\"dataframe\">\n",
              "  <thead>\n",
              "    <tr style=\"text-align: right;\">\n",
              "      <th></th>\n",
              "      <th>Total_CPI</th>\n",
              "      <th>CPI_NonEner</th>\n",
              "      <th>CPI_Ener</th>\n",
              "      <th>CPI_Metals</th>\n",
              "      <th>CPI_Forst</th>\n",
              "      <th>CPI_Agri</th>\n",
              "      <th>CPI_Fish</th>\n",
              "    </tr>\n",
              "  </thead>\n",
              "  <tbody>\n",
              "    <tr>\n",
              "      <th>Total_CPI</th>\n",
              "      <td>1.000000</td>\n",
              "      <td>0.903644</td>\n",
              "      <td>0.977267</td>\n",
              "      <td>0.910876</td>\n",
              "      <td>0.606498</td>\n",
              "      <td>0.848023</td>\n",
              "      <td>0.715992</td>\n",
              "    </tr>\n",
              "    <tr>\n",
              "      <th>CPI_NonEner</th>\n",
              "      <td>0.903644</td>\n",
              "      <td>1.000000</td>\n",
              "      <td>0.804170</td>\n",
              "      <td>0.967183</td>\n",
              "      <td>0.822376</td>\n",
              "      <td>0.874488</td>\n",
              "      <td>0.830922</td>\n",
              "    </tr>\n",
              "    <tr>\n",
              "      <th>CPI_Ener</th>\n",
              "      <td>0.977267</td>\n",
              "      <td>0.804170</td>\n",
              "      <td>1.000000</td>\n",
              "      <td>0.833749</td>\n",
              "      <td>0.476074</td>\n",
              "      <td>0.788788</td>\n",
              "      <td>0.631449</td>\n",
              "    </tr>\n",
              "    <tr>\n",
              "      <th>CPI_Metals</th>\n",
              "      <td>0.910876</td>\n",
              "      <td>0.967183</td>\n",
              "      <td>0.833749</td>\n",
              "      <td>1.000000</td>\n",
              "      <td>0.694953</td>\n",
              "      <td>0.859512</td>\n",
              "      <td>0.763231</td>\n",
              "    </tr>\n",
              "    <tr>\n",
              "      <th>CPI_Forst</th>\n",
              "      <td>0.606498</td>\n",
              "      <td>0.822376</td>\n",
              "      <td>0.476074</td>\n",
              "      <td>0.694953</td>\n",
              "      <td>1.000000</td>\n",
              "      <td>0.558940</td>\n",
              "      <td>0.810035</td>\n",
              "    </tr>\n",
              "    <tr>\n",
              "      <th>CPI_Agri</th>\n",
              "      <td>0.848023</td>\n",
              "      <td>0.874488</td>\n",
              "      <td>0.788788</td>\n",
              "      <td>0.859512</td>\n",
              "      <td>0.558940</td>\n",
              "      <td>1.000000</td>\n",
              "      <td>0.598726</td>\n",
              "    </tr>\n",
              "    <tr>\n",
              "      <th>CPI_Fish</th>\n",
              "      <td>0.715992</td>\n",
              "      <td>0.830922</td>\n",
              "      <td>0.631449</td>\n",
              "      <td>0.763231</td>\n",
              "      <td>0.810035</td>\n",
              "      <td>0.598726</td>\n",
              "      <td>1.000000</td>\n",
              "    </tr>\n",
              "  </tbody>\n",
              "</table>\n",
              "</div>"
            ],
            "text/plain": [
              "             Total_CPI  CPI_NonEner  CPI_Ener  ...  CPI_Forst  CPI_Agri  CPI_Fish\n",
              "Total_CPI     1.000000     0.903644  0.977267  ...   0.606498  0.848023  0.715992\n",
              "CPI_NonEner   0.903644     1.000000  0.804170  ...   0.822376  0.874488  0.830922\n",
              "CPI_Ener      0.977267     0.804170  1.000000  ...   0.476074  0.788788  0.631449\n",
              "CPI_Metals    0.910876     0.967183  0.833749  ...   0.694953  0.859512  0.763231\n",
              "CPI_Forst     0.606498     0.822376  0.476074  ...   1.000000  0.558940  0.810035\n",
              "CPI_Agri      0.848023     0.874488  0.788788  ...   0.558940  1.000000  0.598726\n",
              "CPI_Fish      0.715992     0.830922  0.631449  ...   0.810035  0.598726  1.000000\n",
              "\n",
              "[7 rows x 7 columns]"
            ]
          },
          "metadata": {},
          "execution_count": 15
        },
        {
          "output_type": "display_data",
          "data": {
            "image/png": "[encoded data removed]",
            "text/plain": [
              "<Figure size 720x360 with 2 Axes>"
            ]
          },
          "metadata": {
            "needs_background": "light"
          }
        }
      ]
    },
    {
      "cell_type": "code",
      "metadata": {
        "id": "teYwGZ2lc1IS",
        "colab": {
          "base_uri": "https://localhost:8080/",
          "height": 204
        },
        "outputId": "d2c08b95-3fca-4820-9585-b83326081a98"
      },
      "source": [
        "df = df_new.drop(['CPI_NonEner'], axis=1)\n",
        "df.head(5)"
      ],
      "execution_count": 16,
      "outputs": [
        {
          "output_type": "execute_result",
          "data": {
            "text/html": [
              "<div>\n",
              "<style scoped>\n",
              "    .dataframe tbody tr th:only-of-type {\n",
              "        vertical-align: middle;\n",
              "    }\n",
              "\n",
              "    .dataframe tbody tr th {\n",
              "        vertical-align: top;\n",
              "    }\n",
              "\n",
              "    .dataframe thead th {\n",
              "        text-align: right;\n",
              "    }\n",
              "</style>\n",
              "<table border=\"1\" class=\"dataframe\">\n",
              "  <thead>\n",
              "    <tr style=\"text-align: right;\">\n",
              "      <th></th>\n",
              "      <th>date</th>\n",
              "      <th>Total_CPI</th>\n",
              "      <th>CPI_Ener</th>\n",
              "      <th>CPI_Metals</th>\n",
              "      <th>CPI_Forst</th>\n",
              "      <th>CPI_Agri</th>\n",
              "      <th>CPI_Fish</th>\n",
              "    </tr>\n",
              "  </thead>\n",
              "  <tbody>\n",
              "    <tr>\n",
              "      <th>0</th>\n",
              "      <td>1972-01-01</td>\n",
              "      <td>100.00</td>\n",
              "      <td>100.00</td>\n",
              "      <td>100.00</td>\n",
              "      <td>100.00</td>\n",
              "      <td>100.00</td>\n",
              "      <td>100.00</td>\n",
              "    </tr>\n",
              "    <tr>\n",
              "      <th>1</th>\n",
              "      <td>1972-02-01</td>\n",
              "      <td>100.40</td>\n",
              "      <td>99.78</td>\n",
              "      <td>100.74</td>\n",
              "      <td>100.12</td>\n",
              "      <td>101.20</td>\n",
              "      <td>88.89</td>\n",
              "    </tr>\n",
              "    <tr>\n",
              "      <th>2</th>\n",
              "      <td>1972-03-01</td>\n",
              "      <td>101.11</td>\n",
              "      <td>100.05</td>\n",
              "      <td>101.38</td>\n",
              "      <td>100.24</td>\n",
              "      <td>102.53</td>\n",
              "      <td>98.97</td>\n",
              "    </tr>\n",
              "    <tr>\n",
              "      <th>3</th>\n",
              "      <td>1972-04-01</td>\n",
              "      <td>101.16</td>\n",
              "      <td>99.84</td>\n",
              "      <td>101.21</td>\n",
              "      <td>100.95</td>\n",
              "      <td>102.08</td>\n",
              "      <td>103.10</td>\n",
              "    </tr>\n",
              "    <tr>\n",
              "      <th>4</th>\n",
              "      <td>1972-05-01</td>\n",
              "      <td>101.88</td>\n",
              "      <td>100.00</td>\n",
              "      <td>101.25</td>\n",
              "      <td>102.32</td>\n",
              "      <td>103.53</td>\n",
              "      <td>86.30</td>\n",
              "    </tr>\n",
              "  </tbody>\n",
              "</table>\n",
              "</div>"
            ],
            "text/plain": [
              "         date  Total_CPI  CPI_Ener  CPI_Metals  CPI_Forst  CPI_Agri  CPI_Fish\n",
              "0  1972-01-01     100.00    100.00      100.00     100.00    100.00    100.00\n",
              "1  1972-02-01     100.40     99.78      100.74     100.12    101.20     88.89\n",
              "2  1972-03-01     101.11    100.05      101.38     100.24    102.53     98.97\n",
              "3  1972-04-01     101.16     99.84      101.21     100.95    102.08    103.10\n",
              "4  1972-05-01     101.88    100.00      101.25     102.32    103.53     86.30"
            ]
          },
          "metadata": {},
          "execution_count": 16
        }
      ]
    },
    {
      "cell_type": "code",
      "metadata": {
        "id": "dkQlPxul4zRi",
        "colab": {
          "base_uri": "https://localhost:8080/",
          "height": 265
        },
        "outputId": "80b64e08-943c-40d0-9bf5-e6a5a27aded1"
      },
      "source": [
        "plt.plot( 'date', 'Total_CPI', data=df, marker='', markerfacecolor='blue', markersize=12, color='skyblue', linewidth=2)\n",
        "plt.plot( 'date', 'CPI_Agri', data=df, marker='', color='olive', linewidth=2)\n",
        "plt.plot( 'date', 'CPI_Ener', data=df, marker='', color='red', linewidth=2)\n",
        "plt.plot( 'date', 'CPI_Metals', data=df, marker='', color='grey', linewidth=2)\n",
        "plt.plot( 'date', 'CPI_Forst', data=df, marker='', color='black', linewidth=2)\n",
        "plt.plot( 'date', 'CPI_Fish', data=df, marker='', color='purple', linewidth=2)\n",
        "\n",
        "# show legend\n",
        "plt.legend()\n",
        "\n",
        "# show graph\n",
        "plt.show()"
      ],
      "execution_count": 17,
      "outputs": [
        {
          "output_type": "display_data",
          "data": {
            "image/png": "[encoded data removed]",
            "text/plain": [
              "<Figure size 432x288 with 1 Axes>"
            ]
          },
          "metadata": {
            "needs_background": "light"
          }
        }
      ]
    },
    {
      "cell_type": "code",
      "metadata": {
        "id": "91HgPJRfdT3S",
        "colab": {
          "base_uri": "https://localhost:8080/",
          "height": 235
        },
        "outputId": "5cf120a0-0a68-48f2-b6ca-c418cc1d738d"
      },
      "source": [
        "\n",
        "df.corr()\n"
      ],
      "execution_count": 18,
      "outputs": [
        {
          "output_type": "execute_result",
          "data": {
            "text/html": [
              "<div>\n",
              "<style scoped>\n",
              "    .dataframe tbody tr th:only-of-type {\n",
              "        vertical-align: middle;\n",
              "    }\n",
              "\n",
              "    .dataframe tbody tr th {\n",
              "        vertical-align: top;\n",
              "    }\n",
              "\n",
              "    .dataframe thead th {\n",
              "        text-align: right;\n",
              "    }\n",
              "</style>\n",
              "<table border=\"1\" class=\"dataframe\">\n",
              "  <thead>\n",
              "    <tr style=\"text-align: right;\">\n",
              "      <th></th>\n",
              "      <th>Total_CPI</th>\n",
              "      <th>CPI_Ener</th>\n",
              "      <th>CPI_Metals</th>\n",
              "      <th>CPI_Forst</th>\n",
              "      <th>CPI_Agri</th>\n",
              "      <th>CPI_Fish</th>\n",
              "    </tr>\n",
              "  </thead>\n",
              "  <tbody>\n",
              "    <tr>\n",
              "      <th>Total_CPI</th>\n",
              "      <td>1.000000</td>\n",
              "      <td>0.977267</td>\n",
              "      <td>0.910876</td>\n",
              "      <td>0.606498</td>\n",
              "      <td>0.848023</td>\n",
              "      <td>0.715992</td>\n",
              "    </tr>\n",
              "    <tr>\n",
              "      <th>CPI_Ener</th>\n",
              "      <td>0.977267</td>\n",
              "      <td>1.000000</td>\n",
              "      <td>0.833749</td>\n",
              "      <td>0.476074</td>\n",
              "      <td>0.788788</td>\n",
              "      <td>0.631449</td>\n",
              "    </tr>\n",
              "    <tr>\n",
              "      <th>CPI_Metals</th>\n",
              "      <td>0.910876</td>\n",
              "      <td>0.833749</td>\n",
              "      <td>1.000000</td>\n",
              "      <td>0.694953</td>\n",
              "      <td>0.859512</td>\n",
              "      <td>0.763231</td>\n",
              "    </tr>\n",
              "    <tr>\n",
              "      <th>CPI_Forst</th>\n",
              "      <td>0.606498</td>\n",
              "      <td>0.476074</td>\n",
              "      <td>0.694953</td>\n",
              "      <td>1.000000</td>\n",
              "      <td>0.558940</td>\n",
              "      <td>0.810035</td>\n",
              "    </tr>\n",
              "    <tr>\n",
              "      <th>CPI_Agri</th>\n",
              "      <td>0.848023</td>\n",
              "      <td>0.788788</td>\n",
              "      <td>0.859512</td>\n",
              "      <td>0.558940</td>\n",
              "      <td>1.000000</td>\n",
              "      <td>0.598726</td>\n",
              "    </tr>\n",
              "    <tr>\n",
              "      <th>CPI_Fish</th>\n",
              "      <td>0.715992</td>\n",
              "      <td>0.631449</td>\n",
              "      <td>0.763231</td>\n",
              "      <td>0.810035</td>\n",
              "      <td>0.598726</td>\n",
              "      <td>1.000000</td>\n",
              "    </tr>\n",
              "  </tbody>\n",
              "</table>\n",
              "</div>"
            ],
            "text/plain": [
              "            Total_CPI  CPI_Ener  CPI_Metals  CPI_Forst  CPI_Agri  CPI_Fish\n",
              "Total_CPI    1.000000  0.977267    0.910876   0.606498  0.848023  0.715992\n",
              "CPI_Ener     0.977267  1.000000    0.833749   0.476074  0.788788  0.631449\n",
              "CPI_Metals   0.910876  0.833749    1.000000   0.694953  0.859512  0.763231\n",
              "CPI_Forst    0.606498  0.476074    0.694953   1.000000  0.558940  0.810035\n",
              "CPI_Agri     0.848023  0.788788    0.859512   0.558940  1.000000  0.598726\n",
              "CPI_Fish     0.715992  0.631449    0.763231   0.810035  0.598726  1.000000"
            ]
          },
          "metadata": {},
          "execution_count": 18
        }
      ]
    }
  ]
}