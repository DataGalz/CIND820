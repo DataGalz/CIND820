{
  "nbformat": 4,
  "nbformat_minor": 0,
  "metadata": {
    "colab": {
      "name": "Copy of CIND820.ipynb",
      "provenance": [],
      "collapsed_sections": [],
      "authorship_tag": "ABX9TyPYg405QrV9TWbvnPjMHoxV",
      "include_colab_link": true
    },
    "kernelspec": {
      "name": "python3",
      "display_name": "Python 3"
    },
    "language_info": {
      "name": "python"
    }
  },
  "cells": [
    {
      "cell_type": "markdown",
      "metadata": {
        "id": "view-in-github",
        "colab_type": "text"
      },
      "source": [
        "<a href=\"https://colab.research.google.com/github/DataGalz/CIND820/blob/main/CIND820.ipynb\" target=\"_parent\"><img src=\"https://colab.research.google.com/assets/colab-badge.svg\" alt=\"Open In Colab\"/></a>"
      ]
    },
    {
      "cell_type": "code",
      "metadata": {
        "id": "uHaru-u08cJP"
      },
      "source": [
        "\n",
        "import pandas as pd\n",
        "import numpy as np\n",
        "import seaborn as sns\n",
        "import matplotlib.pyplot as plt\n",
        "%matplotlib inline\n",
        "\n"
      ],
      "execution_count": 2,
      "outputs": []
    },
    {
      "cell_type": "code",
      "metadata": {
        "id": "8odir_zB8rZm",
        "colab": {
          "base_uri": "https://localhost:8080/"
        },
        "outputId": "5898b055-2efd-40d3-a8d2-5572c998b7d2"
      },
      "source": [
        "\n",
        "url = 'https://raw.githubusercontent.com/DataGalz/CIND820/main/CPI_MONTHLY.csv'\n",
        "data = pd.read_csv(url)\n",
        "df = pd.DataFrame(data)\n",
        "print(df)\n",
        "#converted the data into a dataframe\n",
        "\n",
        "\n"
      ],
      "execution_count": 3,
      "outputs": [
        {
          "output_type": "stream",
          "name": "stdout",
          "text": [
            "           date  Total CPI  Total CPI.1  ...  CPIX  CPI-XFET  CPIW\n",
            "0    1995-01-01       86.6         86.6  ...   NaN       2.2   1.7\n",
            "1    1995-02-01       87.0         87.0  ...   NaN       1.8   1.7\n",
            "2    1995-03-01       87.2         87.2  ...   NaN       2.1   1.9\n",
            "3    1995-04-01       87.5         87.4  ...   NaN       2.1   2.0\n",
            "4    1995-05-01       87.7         87.7  ...   NaN       2.5   2.2\n",
            "..          ...        ...          ...  ...   ...       ...   ...\n",
            "315  2021-04-01      140.3        140.0  ...   2.3       1.8   2.6\n",
            "316  2021-05-01      141.0        140.5  ...   2.8       2.4   3.0\n",
            "317  2021-06-01      141.4        140.8  ...   2.7       2.2   3.0\n",
            "318  2021-07-01      142.3        141.6  ...   3.3       2.8   3.3\n",
            "319  2021-08-01      142.6        142.2  ...   3.5       3.0   3.4\n",
            "\n",
            "[320 rows x 10 columns]\n"
          ]
        }
      ]
    },
    {
      "cell_type": "code",
      "metadata": {
        "id": "Ns7tqNSBPgPk",
        "colab": {
          "base_uri": "https://localhost:8080/"
        },
        "outputId": "c13534a7-6ad7-494a-ffa5-5404c10c8d34"
      },
      "source": [
        "df.dtypes\n",
        "#checking the type of data"
      ],
      "execution_count": 4,
      "outputs": [
        {
          "output_type": "execute_result",
          "data": {
            "text/plain": [
              "date                 object\n",
              "Total CPI           float64\n",
              "Total CPI.1         float64\n",
              "TOTAL_CPI_CHANGE    float64\n",
              "CPI_TRIM            float64\n",
              "CPI_MEDIAN          float64\n",
              "CPI_COMMON          float64\n",
              "CPIX                float64\n",
              "CPI-XFET            float64\n",
              "CPIW                float64\n",
              "dtype: object"
            ]
          },
          "metadata": {},
          "execution_count": 4
        }
      ]
    },
    {
      "cell_type": "code",
      "metadata": {
        "colab": {
          "base_uri": "https://localhost:8080/",
          "height": 204
        },
        "id": "Op0RURYLXBef",
        "outputId": "1bf5a199-153e-4966-f525-ab5f167de578"
      },
      "source": [
        "df.head(5)\n",
        "# the first 5 rows of the data"
      ],
      "execution_count": 5,
      "outputs": [
        {
          "output_type": "execute_result",
          "data": {
            "text/html": [
              "<div>\n",
              "<style scoped>\n",
              "    .dataframe tbody tr th:only-of-type {\n",
              "        vertical-align: middle;\n",
              "    }\n",
              "\n",
              "    .dataframe tbody tr th {\n",
              "        vertical-align: top;\n",
              "    }\n",
              "\n",
              "    .dataframe thead th {\n",
              "        text-align: right;\n",
              "    }\n",
              "</style>\n",
              "<table border=\"1\" class=\"dataframe\">\n",
              "  <thead>\n",
              "    <tr style=\"text-align: right;\">\n",
              "      <th></th>\n",
              "      <th>date</th>\n",
              "      <th>Total CPI</th>\n",
              "      <th>Total CPI.1</th>\n",
              "      <th>TOTAL_CPI_CHANGE</th>\n",
              "      <th>CPI_TRIM</th>\n",
              "      <th>CPI_MEDIAN</th>\n",
              "      <th>CPI_COMMON</th>\n",
              "      <th>CPIX</th>\n",
              "      <th>CPI-XFET</th>\n",
              "      <th>CPIW</th>\n",
              "    </tr>\n",
              "  </thead>\n",
              "  <tbody>\n",
              "    <tr>\n",
              "      <th>0</th>\n",
              "      <td>1995-01-01</td>\n",
              "      <td>86.6</td>\n",
              "      <td>86.6</td>\n",
              "      <td>0.6</td>\n",
              "      <td>1.8</td>\n",
              "      <td>1.8</td>\n",
              "      <td>1.1</td>\n",
              "      <td>NaN</td>\n",
              "      <td>2.2</td>\n",
              "      <td>1.7</td>\n",
              "    </tr>\n",
              "    <tr>\n",
              "      <th>1</th>\n",
              "      <td>1995-02-01</td>\n",
              "      <td>87.0</td>\n",
              "      <td>87.0</td>\n",
              "      <td>1.9</td>\n",
              "      <td>1.9</td>\n",
              "      <td>1.8</td>\n",
              "      <td>1.1</td>\n",
              "      <td>NaN</td>\n",
              "      <td>1.8</td>\n",
              "      <td>1.7</td>\n",
              "    </tr>\n",
              "    <tr>\n",
              "      <th>2</th>\n",
              "      <td>1995-03-01</td>\n",
              "      <td>87.2</td>\n",
              "      <td>87.2</td>\n",
              "      <td>2.1</td>\n",
              "      <td>2.0</td>\n",
              "      <td>1.8</td>\n",
              "      <td>1.3</td>\n",
              "      <td>NaN</td>\n",
              "      <td>2.1</td>\n",
              "      <td>1.9</td>\n",
              "    </tr>\n",
              "    <tr>\n",
              "      <th>3</th>\n",
              "      <td>1995-04-01</td>\n",
              "      <td>87.5</td>\n",
              "      <td>87.4</td>\n",
              "      <td>2.5</td>\n",
              "      <td>2.1</td>\n",
              "      <td>2.0</td>\n",
              "      <td>1.3</td>\n",
              "      <td>NaN</td>\n",
              "      <td>2.1</td>\n",
              "      <td>2.0</td>\n",
              "    </tr>\n",
              "    <tr>\n",
              "      <th>4</th>\n",
              "      <td>1995-05-01</td>\n",
              "      <td>87.7</td>\n",
              "      <td>87.7</td>\n",
              "      <td>2.9</td>\n",
              "      <td>2.3</td>\n",
              "      <td>2.1</td>\n",
              "      <td>1.4</td>\n",
              "      <td>NaN</td>\n",
              "      <td>2.5</td>\n",
              "      <td>2.2</td>\n",
              "    </tr>\n",
              "  </tbody>\n",
              "</table>\n",
              "</div>"
            ],
            "text/plain": [
              "         date  Total CPI  Total CPI.1  ...  CPIX  CPI-XFET  CPIW\n",
              "0  1995-01-01       86.6         86.6  ...   NaN       2.2   1.7\n",
              "1  1995-02-01       87.0         87.0  ...   NaN       1.8   1.7\n",
              "2  1995-03-01       87.2         87.2  ...   NaN       2.1   1.9\n",
              "3  1995-04-01       87.5         87.4  ...   NaN       2.1   2.0\n",
              "4  1995-05-01       87.7         87.7  ...   NaN       2.5   2.2\n",
              "\n",
              "[5 rows x 10 columns]"
            ]
          },
          "metadata": {},
          "execution_count": 5
        }
      ]
    },
    {
      "cell_type": "code",
      "metadata": {
        "colab": {
          "base_uri": "https://localhost:8080/",
          "height": 204
        },
        "id": "jflwNc38Ys_1",
        "outputId": "a4aa97db-b042-4336-fa4c-8bf951b25d87"
      },
      "source": [
        "df.tail(5)\n",
        "#the last 5 rows of the data"
      ],
      "execution_count": 6,
      "outputs": [
        {
          "output_type": "execute_result",
          "data": {
            "text/html": [
              "<div>\n",
              "<style scoped>\n",
              "    .dataframe tbody tr th:only-of-type {\n",
              "        vertical-align: middle;\n",
              "    }\n",
              "\n",
              "    .dataframe tbody tr th {\n",
              "        vertical-align: top;\n",
              "    }\n",
              "\n",
              "    .dataframe thead th {\n",
              "        text-align: right;\n",
              "    }\n",
              "</style>\n",
              "<table border=\"1\" class=\"dataframe\">\n",
              "  <thead>\n",
              "    <tr style=\"text-align: right;\">\n",
              "      <th></th>\n",
              "      <th>date</th>\n",
              "      <th>Total CPI</th>\n",
              "      <th>Total CPI.1</th>\n",
              "      <th>TOTAL_CPI_CHANGE</th>\n",
              "      <th>CPI_TRIM</th>\n",
              "      <th>CPI_MEDIAN</th>\n",
              "      <th>CPI_COMMON</th>\n",
              "      <th>CPIX</th>\n",
              "      <th>CPI-XFET</th>\n",
              "      <th>CPIW</th>\n",
              "    </tr>\n",
              "  </thead>\n",
              "  <tbody>\n",
              "    <tr>\n",
              "      <th>315</th>\n",
              "      <td>2021-04-01</td>\n",
              "      <td>140.3</td>\n",
              "      <td>140.0</td>\n",
              "      <td>3.4</td>\n",
              "      <td>2.3</td>\n",
              "      <td>2.1</td>\n",
              "      <td>1.7</td>\n",
              "      <td>2.3</td>\n",
              "      <td>1.8</td>\n",
              "      <td>2.6</td>\n",
              "    </tr>\n",
              "    <tr>\n",
              "      <th>316</th>\n",
              "      <td>2021-05-01</td>\n",
              "      <td>141.0</td>\n",
              "      <td>140.5</td>\n",
              "      <td>3.6</td>\n",
              "      <td>2.7</td>\n",
              "      <td>2.3</td>\n",
              "      <td>1.8</td>\n",
              "      <td>2.8</td>\n",
              "      <td>2.4</td>\n",
              "      <td>3.0</td>\n",
              "    </tr>\n",
              "    <tr>\n",
              "      <th>317</th>\n",
              "      <td>2021-06-01</td>\n",
              "      <td>141.4</td>\n",
              "      <td>140.8</td>\n",
              "      <td>3.1</td>\n",
              "      <td>2.7</td>\n",
              "      <td>2.3</td>\n",
              "      <td>1.7</td>\n",
              "      <td>2.7</td>\n",
              "      <td>2.2</td>\n",
              "      <td>3.0</td>\n",
              "    </tr>\n",
              "    <tr>\n",
              "      <th>318</th>\n",
              "      <td>2021-07-01</td>\n",
              "      <td>142.3</td>\n",
              "      <td>141.6</td>\n",
              "      <td>3.7</td>\n",
              "      <td>3.1</td>\n",
              "      <td>2.5</td>\n",
              "      <td>1.7</td>\n",
              "      <td>3.3</td>\n",
              "      <td>2.8</td>\n",
              "      <td>3.3</td>\n",
              "    </tr>\n",
              "    <tr>\n",
              "      <th>319</th>\n",
              "      <td>2021-08-01</td>\n",
              "      <td>142.6</td>\n",
              "      <td>142.2</td>\n",
              "      <td>4.1</td>\n",
              "      <td>3.3</td>\n",
              "      <td>2.6</td>\n",
              "      <td>1.8</td>\n",
              "      <td>3.5</td>\n",
              "      <td>3.0</td>\n",
              "      <td>3.4</td>\n",
              "    </tr>\n",
              "  </tbody>\n",
              "</table>\n",
              "</div>"
            ],
            "text/plain": [
              "           date  Total CPI  Total CPI.1  ...  CPIX  CPI-XFET  CPIW\n",
              "315  2021-04-01      140.3        140.0  ...   2.3       1.8   2.6\n",
              "316  2021-05-01      141.0        140.5  ...   2.8       2.4   3.0\n",
              "317  2021-06-01      141.4        140.8  ...   2.7       2.2   3.0\n",
              "318  2021-07-01      142.3        141.6  ...   3.3       2.8   3.3\n",
              "319  2021-08-01      142.6        142.2  ...   3.5       3.0   3.4\n",
              "\n",
              "[5 rows x 10 columns]"
            ]
          },
          "metadata": {},
          "execution_count": 6
        }
      ]
    },
    {
      "cell_type": "code",
      "metadata": {
        "colab": {
          "base_uri": "https://localhost:8080/"
        },
        "id": "pRAumZ9IY0sH",
        "outputId": "6f127bf0-946d-49bd-a531-fd11cb50236f"
      },
      "source": [
        "df.describe\n",
        "#describe the data\n"
      ],
      "execution_count": 7,
      "outputs": [
        {
          "output_type": "execute_result",
          "data": {
            "text/plain": [
              "<bound method NDFrame.describe of            date  Total CPI  Total CPI.1  ...  CPIX  CPI-XFET  CPIW\n",
              "0    1995-01-01       86.6         86.6  ...   NaN       2.2   1.7\n",
              "1    1995-02-01       87.0         87.0  ...   NaN       1.8   1.7\n",
              "2    1995-03-01       87.2         87.2  ...   NaN       2.1   1.9\n",
              "3    1995-04-01       87.5         87.4  ...   NaN       2.1   2.0\n",
              "4    1995-05-01       87.7         87.7  ...   NaN       2.5   2.2\n",
              "..          ...        ...          ...  ...   ...       ...   ...\n",
              "315  2021-04-01      140.3        140.0  ...   2.3       1.8   2.6\n",
              "316  2021-05-01      141.0        140.5  ...   2.8       2.4   3.0\n",
              "317  2021-06-01      141.4        140.8  ...   2.7       2.2   3.0\n",
              "318  2021-07-01      142.3        141.6  ...   3.3       2.8   3.3\n",
              "319  2021-08-01      142.6        142.2  ...   3.5       3.0   3.4\n",
              "\n",
              "[320 rows x 10 columns]>"
            ]
          },
          "metadata": {},
          "execution_count": 7
        }
      ]
    },
    {
      "cell_type": "code",
      "metadata": {
        "colab": {
          "base_uri": "https://localhost:8080/",
          "height": 35
        },
        "id": "haxIMudkuvNP",
        "outputId": "8614799b-06a7-49dd-9e8d-77b3e46d21ba"
      },
      "source": [
        "min(df.date)\n",
        "#checking the year and month where the CPI was lowest"
      ],
      "execution_count": 8,
      "outputs": [
        {
          "output_type": "execute_result",
          "data": {
            "application/vnd.google.colaboratory.intrinsic+json": {
              "type": "string"
            },
            "text/plain": [
              "'1995-01-01'"
            ]
          },
          "metadata": {},
          "execution_count": 8
        }
      ]
    },
    {
      "cell_type": "code",
      "metadata": {
        "colab": {
          "base_uri": "https://localhost:8080/",
          "height": 35
        },
        "id": "CRZ4xnDFu7pV",
        "outputId": "97fc5c08-9589-41ff-affa-8a8afbef2e47"
      },
      "source": [
        "max(df.date)\n",
        "#checking the year and month where the CPI was highest"
      ],
      "execution_count": 9,
      "outputs": [
        {
          "output_type": "execute_result",
          "data": {
            "application/vnd.google.colaboratory.intrinsic+json": {
              "type": "string"
            },
            "text/plain": [
              "'2021-08-01'"
            ]
          },
          "metadata": {},
          "execution_count": 9
        }
      ]
    },
    {
      "cell_type": "code",
      "metadata": {
        "colab": {
          "base_uri": "https://localhost:8080/"
        },
        "id": "cH9AZUETvJXl",
        "outputId": "9d980600-01dc-4bce-8fb4-529a2404bec0"
      },
      "source": [
        "df.isnull().sum()\n",
        "#checking for null values"
      ],
      "execution_count": 10,
      "outputs": [
        {
          "output_type": "execute_result",
          "data": {
            "text/plain": [
              "date                 0\n",
              "Total CPI            0\n",
              "Total CPI.1          0\n",
              "TOTAL_CPI_CHANGE     0\n",
              "CPI_TRIM             0\n",
              "CPI_MEDIAN           0\n",
              "CPI_COMMON           0\n",
              "CPIX                60\n",
              "CPI-XFET             0\n",
              "CPIW                 0\n",
              "dtype: int64"
            ]
          },
          "metadata": {},
          "execution_count": 10
        }
      ]
    },
    {
      "cell_type": "code",
      "metadata": {
        "colab": {
          "base_uri": "https://localhost:8080/",
          "height": 635
        },
        "id": "v6N5_yJr9yzA",
        "outputId": "0d8da795-81a0-44d3-dcf6-5efa6760d43b"
      },
      "source": [
        "df.corrwith(df.TOTAL_CPI_CHANGE).plot.bar(\n",
        "figsize = (20, 10), title = \"Correlation with Total CPI Change\", fontsize = 15, rot = 45, grid = False)"
      ],
      "execution_count": 11,
      "outputs": [
        {
          "output_type": "execute_result",
          "data": {
            "text/plain": [
              "<matplotlib.axes._subplots.AxesSubplot at 0x7f52b7fa4250>"
            ]
          },
          "metadata": {},
          "execution_count": 11
        },
        {
          "output_type": "display_data",
          "data": {
            "image/png": "[encoded data removed]",
            "text/plain": [
              "<Figure size 1440x720 with 1 Axes>"
            ]
          },
          "metadata": {
            "needs_background": "light"
          }
        }
      ]
    },
    {
      "cell_type": "code",
      "metadata": {
        "colab": {
          "base_uri": "https://localhost:8080/",
          "height": 279
        },
        "id": "iOWhKbgggj8a",
        "outputId": "e371d17d-8784-4a97-ab8c-17402cd0ac45"
      },
      "source": [
        "ax = df.plot.bar(x='date', y='TOTAL_CPI_CHANGE', rot=0)\n"
      ],
      "execution_count": 27,
      "outputs": [
        {
          "output_type": "display_data",
          "data": {
            "image/png": "[encoded data removed]",
            "text/plain": [
              "<Figure size 432x288 with 1 Axes>"
            ]
          },
          "metadata": {
            "needs_background": "light"
          }
        }
      ]
    },
    {
      "cell_type": "code",
      "metadata": {
        "id": "87CYd8Z3cZl3"
      },
      "source": [
        "plt.figure(figsize=(10,5))\n",
        "cor= df.corr()\n",
        "sns.heatmap(cor,cmap=\"BrBG\",annot=True)\n",
        "cor\n",
        "\n",
        "#checking correcation of data to identify attributes that are highly correlated with each other"
      ],
      "execution_count": null,
      "outputs": []
    },
    {
      "cell_type": "code",
      "metadata": {
        "id": "teYwGZ2lc1IS"
      },
      "source": [
        "df = df.drop(['Total CPI','CPI_MEDIAN', 'Total CPI.1','CPI_COMMON','CPIX'], axis=1)\n",
        "df.head(5)"
      ],
      "execution_count": null,
      "outputs": []
    },
    {
      "cell_type": "code",
      "metadata": {
        "id": "91HgPJRfdT3S"
      },
      "source": [
        "plt.figure(figsize=(10,5))\n",
        "c= df.corr()\n",
        "sns.heatmap(c,cmap=\"BrBG\",annot=True)\n",
        "c"
      ],
      "execution_count": null,
      "outputs": []
    },
    {
      "cell_type": "code",
      "metadata": {
        "id": "MSkgron_Vbdx"
      },
      "source": [
        "fig, ax = plt.subplots(figsize=(10,6))\n",
        "ax.scatter(df['date'], df['TOTAL_CPI_CHANGE'])\n",
        "ax.set_xlabel('date')\n",
        "ax.set_ylabel('TOTAL_CPI_CHANGE')\n",
        "plt.show()\n",
        "\n",
        "#scatter plot of CPI Change data"
      ],
      "execution_count": null,
      "outputs": []
    },
    {
      "cell_type": "code",
      "metadata": {
        "id": "3rFAOLBDXpua"
      },
      "source": [
        "date_CPI_Median_Min = df.groupby('date')['TOTAL_CPI_CHANGE'].min().plot(kind = 'line', legend = True, figsize = (20,7),marker = 'v')\n",
        "date_CPI_Median_Max = df.groupby('date')['TOTAL_CPI_CHANGE'].max().plot(kind = 'line', legend = True, figsize = (20,7),marker = 'o')\n",
        "date_CPI_Median_avg = df.groupby('date')['TOTAL_CPI_CHANGE'].std().plot(kind = 'line', legend = True, figsize = (20,7),marker = 'D')\n",
        "plt.title('Min, Max and STD of CPI CHANGE by date')"
      ],
      "execution_count": null,
      "outputs": []
    }
  ]
}