{
  "nbformat": 4,
  "nbformat_minor": 0,
  "metadata": {
    "colab": {
      "name": "Copy of CIND820.ipynb",
      "provenance": [],
      "collapsed_sections": [],
      "authorship_tag": "ABX9TyNH9TGgGc9FoSOLp75jIgyc",
      "include_colab_link": true
    },
    "kernelspec": {
      "name": "python3",
      "display_name": "Python 3"
    },
    "language_info": {
      "name": "python"
    }
  },
  "cells": [
    {
      "cell_type": "markdown",
      "metadata": {
        "id": "view-in-github",
        "colab_type": "text"
      },
      "source": [
        "<a href=\"https://colab.research.google.com/github/DataGalz/CIND820/blob/main/CIND820.ipynb\" target=\"_parent\"><img src=\"https://colab.research.google.com/assets/colab-badge.svg\" alt=\"Open In Colab\"/></a>"
      ]
    },
    {
      "cell_type": "code",
      "metadata": {
        "id": "uHaru-u08cJP"
      },
      "source": [
        "\n",
        "import pandas as pd\n",
        "import numpy as np\n",
        "import seaborn as sns\n",
        "import matplotlib.pyplot as plt\n",
        "%matplotlib inline\n",
        "\n"
      ],
      "execution_count": 18,
      "outputs": []
    },
    {
      "cell_type": "code",
      "metadata": {
        "id": "8odir_zB8rZm",
        "colab": {
          "base_uri": "https://localhost:8080/"
        },
        "outputId": "e645976a-1cdc-4f8f-b643-6131354c2b2d"
      },
      "source": [
        "\n",
        "url = 'https://raw.githubusercontent.com/DataGalz/CIND820/main/CPI_MONTHLY.csv'\n",
        "data = pd.read_csv(url)\n",
        "df = pd.DataFrame(data)\n",
        "print(df)\n",
        "#converted the data into a dataframe\n",
        "\n",
        "\n"
      ],
      "execution_count": 21,
      "outputs": [
        {
          "output_type": "stream",
          "name": "stdout",
          "text": [
            "           date  Total CPI  Total CPI.1  ...  CPIX  CPI-XFET  CPIW\n",
            "0    1995-01-01       86.6         86.6  ...   NaN       2.2   1.7\n",
            "1    1995-02-01       87.0         87.0  ...   NaN       1.8   1.7\n",
            "2    1995-03-01       87.2         87.2  ...   NaN       2.1   1.9\n",
            "3    1995-04-01       87.5         87.4  ...   NaN       2.1   2.0\n",
            "4    1995-05-01       87.7         87.7  ...   NaN       2.5   2.2\n",
            "..          ...        ...          ...  ...   ...       ...   ...\n",
            "315  2021-04-01      140.3        140.0  ...   2.3       1.8   2.6\n",
            "316  2021-05-01      141.0        140.5  ...   2.8       2.4   3.0\n",
            "317  2021-06-01      141.4        140.8  ...   2.7       2.2   3.0\n",
            "318  2021-07-01      142.3        141.6  ...   3.3       2.8   3.3\n",
            "319  2021-08-01      142.6        142.2  ...   3.5       3.0   3.4\n",
            "\n",
            "[320 rows x 10 columns]\n"
          ]
        }
      ]
    },
    {
      "cell_type": "code",
      "metadata": {
        "id": "Ns7tqNSBPgPk",
        "colab": {
          "base_uri": "https://localhost:8080/"
        },
        "outputId": "c35a992d-7d79-4bf0-bb55-b674a5e227f5"
      },
      "source": [
        "df.dtypes\n",
        "#checking the type of data"
      ],
      "execution_count": 4,
      "outputs": [
        {
          "output_type": "execute_result",
          "data": {
            "text/plain": [
              "date            object\n",
              "Total_CPI      float64\n",
              "Total_CPI.1    float64\n",
              "CPI_CHANGE     float64\n",
              "CPI_TRIM       float64\n",
              "CPI_MEDIAN     float64\n",
              "CPI_COMMON     float64\n",
              "CPIX           float64\n",
              "CPI_XFET       float64\n",
              "CPIW           float64\n",
              "dtype: object"
            ]
          },
          "metadata": {},
          "execution_count": 4
        }
      ]
    },
    {
      "cell_type": "code",
      "metadata": {
        "colab": {
          "base_uri": "https://localhost:8080/",
          "height": 204
        },
        "id": "Op0RURYLXBef",
        "outputId": "43471791-5988-4fbd-fa7b-6c1f0cf0e867"
      },
      "source": [
        "df.head(5)\n",
        "# the first 5 rows of the data"
      ],
      "execution_count": 5,
      "outputs": [
        {
          "output_type": "execute_result",
          "data": {
            "text/html": [
              "<div>\n",
              "<style scoped>\n",
              "    .dataframe tbody tr th:only-of-type {\n",
              "        vertical-align: middle;\n",
              "    }\n",
              "\n",
              "    .dataframe tbody tr th {\n",
              "        vertical-align: top;\n",
              "    }\n",
              "\n",
              "    .dataframe thead th {\n",
              "        text-align: right;\n",
              "    }\n",
              "</style>\n",
              "<table border=\"1\" class=\"dataframe\">\n",
              "  <thead>\n",
              "    <tr style=\"text-align: right;\">\n",
              "      <th></th>\n",
              "      <th>date</th>\n",
              "      <th>Total_CPI</th>\n",
              "      <th>Total_CPI.1</th>\n",
              "      <th>CPI_CHANGE</th>\n",
              "      <th>CPI_TRIM</th>\n",
              "      <th>CPI_MEDIAN</th>\n",
              "      <th>CPI_COMMON</th>\n",
              "      <th>CPIX</th>\n",
              "      <th>CPI_XFET</th>\n",
              "      <th>CPIW</th>\n",
              "    </tr>\n",
              "  </thead>\n",
              "  <tbody>\n",
              "    <tr>\n",
              "      <th>0</th>\n",
              "      <td>1995-01-01</td>\n",
              "      <td>86.6</td>\n",
              "      <td>86.6</td>\n",
              "      <td>0.6</td>\n",
              "      <td>1.8</td>\n",
              "      <td>1.8</td>\n",
              "      <td>1.1</td>\n",
              "      <td>NaN</td>\n",
              "      <td>2.2</td>\n",
              "      <td>1.7</td>\n",
              "    </tr>\n",
              "    <tr>\n",
              "      <th>1</th>\n",
              "      <td>1995-02-01</td>\n",
              "      <td>87.0</td>\n",
              "      <td>87.0</td>\n",
              "      <td>1.9</td>\n",
              "      <td>1.9</td>\n",
              "      <td>1.8</td>\n",
              "      <td>1.1</td>\n",
              "      <td>NaN</td>\n",
              "      <td>1.8</td>\n",
              "      <td>1.7</td>\n",
              "    </tr>\n",
              "    <tr>\n",
              "      <th>2</th>\n",
              "      <td>1995-03-01</td>\n",
              "      <td>87.2</td>\n",
              "      <td>87.2</td>\n",
              "      <td>2.1</td>\n",
              "      <td>2.0</td>\n",
              "      <td>1.8</td>\n",
              "      <td>1.3</td>\n",
              "      <td>NaN</td>\n",
              "      <td>2.1</td>\n",
              "      <td>1.9</td>\n",
              "    </tr>\n",
              "    <tr>\n",
              "      <th>3</th>\n",
              "      <td>1995-04-01</td>\n",
              "      <td>87.5</td>\n",
              "      <td>87.4</td>\n",
              "      <td>2.5</td>\n",
              "      <td>2.1</td>\n",
              "      <td>2.0</td>\n",
              "      <td>1.3</td>\n",
              "      <td>NaN</td>\n",
              "      <td>2.1</td>\n",
              "      <td>2.0</td>\n",
              "    </tr>\n",
              "    <tr>\n",
              "      <th>4</th>\n",
              "      <td>1995-05-01</td>\n",
              "      <td>87.7</td>\n",
              "      <td>87.7</td>\n",
              "      <td>2.9</td>\n",
              "      <td>2.3</td>\n",
              "      <td>2.1</td>\n",
              "      <td>1.4</td>\n",
              "      <td>NaN</td>\n",
              "      <td>2.5</td>\n",
              "      <td>2.2</td>\n",
              "    </tr>\n",
              "  </tbody>\n",
              "</table>\n",
              "</div>"
            ],
            "text/plain": [
              "         date  Total_CPI  Total_CPI.1  ...  CPIX  CPI_XFET  CPIW\n",
              "0  1995-01-01       86.6         86.6  ...   NaN       2.2   1.7\n",
              "1  1995-02-01       87.0         87.0  ...   NaN       1.8   1.7\n",
              "2  1995-03-01       87.2         87.2  ...   NaN       2.1   1.9\n",
              "3  1995-04-01       87.5         87.4  ...   NaN       2.1   2.0\n",
              "4  1995-05-01       87.7         87.7  ...   NaN       2.5   2.2\n",
              "\n",
              "[5 rows x 10 columns]"
            ]
          },
          "metadata": {},
          "execution_count": 5
        }
      ]
    },
    {
      "cell_type": "code",
      "metadata": {
        "colab": {
          "base_uri": "https://localhost:8080/",
          "height": 204
        },
        "id": "jflwNc38Ys_1",
        "outputId": "0aeb5e55-d688-453a-e816-0549ad9d84f9"
      },
      "source": [
        "df.tail(5)\n",
        "#the last 5 rows of the data"
      ],
      "execution_count": 6,
      "outputs": [
        {
          "output_type": "execute_result",
          "data": {
            "text/html": [
              "<div>\n",
              "<style scoped>\n",
              "    .dataframe tbody tr th:only-of-type {\n",
              "        vertical-align: middle;\n",
              "    }\n",
              "\n",
              "    .dataframe tbody tr th {\n",
              "        vertical-align: top;\n",
              "    }\n",
              "\n",
              "    .dataframe thead th {\n",
              "        text-align: right;\n",
              "    }\n",
              "</style>\n",
              "<table border=\"1\" class=\"dataframe\">\n",
              "  <thead>\n",
              "    <tr style=\"text-align: right;\">\n",
              "      <th></th>\n",
              "      <th>date</th>\n",
              "      <th>Total_CPI</th>\n",
              "      <th>Total_CPI.1</th>\n",
              "      <th>CPI_CHANGE</th>\n",
              "      <th>CPI_TRIM</th>\n",
              "      <th>CPI_MEDIAN</th>\n",
              "      <th>CPI_COMMON</th>\n",
              "      <th>CPIX</th>\n",
              "      <th>CPI_XFET</th>\n",
              "      <th>CPIW</th>\n",
              "    </tr>\n",
              "  </thead>\n",
              "  <tbody>\n",
              "    <tr>\n",
              "      <th>315</th>\n",
              "      <td>2021-04-01</td>\n",
              "      <td>140.3</td>\n",
              "      <td>140.0</td>\n",
              "      <td>3.4</td>\n",
              "      <td>2.3</td>\n",
              "      <td>2.1</td>\n",
              "      <td>1.7</td>\n",
              "      <td>2.3</td>\n",
              "      <td>1.8</td>\n",
              "      <td>2.6</td>\n",
              "    </tr>\n",
              "    <tr>\n",
              "      <th>316</th>\n",
              "      <td>2021-05-01</td>\n",
              "      <td>141.0</td>\n",
              "      <td>140.5</td>\n",
              "      <td>3.6</td>\n",
              "      <td>2.7</td>\n",
              "      <td>2.3</td>\n",
              "      <td>1.8</td>\n",
              "      <td>2.8</td>\n",
              "      <td>2.4</td>\n",
              "      <td>3.0</td>\n",
              "    </tr>\n",
              "    <tr>\n",
              "      <th>317</th>\n",
              "      <td>2021-06-01</td>\n",
              "      <td>141.4</td>\n",
              "      <td>140.8</td>\n",
              "      <td>3.1</td>\n",
              "      <td>2.7</td>\n",
              "      <td>2.3</td>\n",
              "      <td>1.7</td>\n",
              "      <td>2.7</td>\n",
              "      <td>2.2</td>\n",
              "      <td>3.0</td>\n",
              "    </tr>\n",
              "    <tr>\n",
              "      <th>318</th>\n",
              "      <td>2021-07-01</td>\n",
              "      <td>142.3</td>\n",
              "      <td>141.6</td>\n",
              "      <td>3.7</td>\n",
              "      <td>3.1</td>\n",
              "      <td>2.5</td>\n",
              "      <td>1.7</td>\n",
              "      <td>3.3</td>\n",
              "      <td>2.8</td>\n",
              "      <td>3.3</td>\n",
              "    </tr>\n",
              "    <tr>\n",
              "      <th>319</th>\n",
              "      <td>2021-08-01</td>\n",
              "      <td>142.6</td>\n",
              "      <td>142.2</td>\n",
              "      <td>4.1</td>\n",
              "      <td>3.3</td>\n",
              "      <td>2.6</td>\n",
              "      <td>1.8</td>\n",
              "      <td>3.5</td>\n",
              "      <td>3.0</td>\n",
              "      <td>3.4</td>\n",
              "    </tr>\n",
              "  </tbody>\n",
              "</table>\n",
              "</div>"
            ],
            "text/plain": [
              "           date  Total_CPI  Total_CPI.1  ...  CPIX  CPI_XFET  CPIW\n",
              "315  2021-04-01      140.3        140.0  ...   2.3       1.8   2.6\n",
              "316  2021-05-01      141.0        140.5  ...   2.8       2.4   3.0\n",
              "317  2021-06-01      141.4        140.8  ...   2.7       2.2   3.0\n",
              "318  2021-07-01      142.3        141.6  ...   3.3       2.8   3.3\n",
              "319  2021-08-01      142.6        142.2  ...   3.5       3.0   3.4\n",
              "\n",
              "[5 rows x 10 columns]"
            ]
          },
          "metadata": {},
          "execution_count": 6
        }
      ]
    },
    {
      "cell_type": "code",
      "metadata": {
        "colab": {
          "base_uri": "https://localhost:8080/"
        },
        "id": "pRAumZ9IY0sH",
        "outputId": "93282017-84a3-4f8a-93dc-124f90ce580b"
      },
      "source": [
        "df.describe\n",
        "#describe the data\n"
      ],
      "execution_count": 7,
      "outputs": [
        {
          "output_type": "execute_result",
          "data": {
            "text/plain": [
              "<bound method NDFrame.describe of            date  Total_CPI  Total_CPI.1  ...  CPIX  CPI_XFET  CPIW\n",
              "0    1995-01-01       86.6         86.6  ...   NaN       2.2   1.7\n",
              "1    1995-02-01       87.0         87.0  ...   NaN       1.8   1.7\n",
              "2    1995-03-01       87.2         87.2  ...   NaN       2.1   1.9\n",
              "3    1995-04-01       87.5         87.4  ...   NaN       2.1   2.0\n",
              "4    1995-05-01       87.7         87.7  ...   NaN       2.5   2.2\n",
              "..          ...        ...          ...  ...   ...       ...   ...\n",
              "315  2021-04-01      140.3        140.0  ...   2.3       1.8   2.6\n",
              "316  2021-05-01      141.0        140.5  ...   2.8       2.4   3.0\n",
              "317  2021-06-01      141.4        140.8  ...   2.7       2.2   3.0\n",
              "318  2021-07-01      142.3        141.6  ...   3.3       2.8   3.3\n",
              "319  2021-08-01      142.6        142.2  ...   3.5       3.0   3.4\n",
              "\n",
              "[320 rows x 10 columns]>"
            ]
          },
          "metadata": {},
          "execution_count": 7
        }
      ]
    },
    {
      "cell_type": "code",
      "metadata": {
        "colab": {
          "base_uri": "https://localhost:8080/",
          "height": 35
        },
        "id": "haxIMudkuvNP",
        "outputId": "f41e433d-e7fc-47e2-be98-767e6d9fda34"
      },
      "source": [
        "min(df.date)\n",
        "#checking the year and month where the CPI was lowest"
      ],
      "execution_count": 8,
      "outputs": [
        {
          "output_type": "execute_result",
          "data": {
            "application/vnd.google.colaboratory.intrinsic+json": {
              "type": "string"
            },
            "text/plain": [
              "'1995-01-01'"
            ]
          },
          "metadata": {},
          "execution_count": 8
        }
      ]
    },
    {
      "cell_type": "code",
      "metadata": {
        "colab": {
          "base_uri": "https://localhost:8080/",
          "height": 35
        },
        "id": "CRZ4xnDFu7pV",
        "outputId": "792e7893-5d03-4af4-8bc5-b058bf7e5c3b"
      },
      "source": [
        "max(df.date)\n",
        "#checking the year and month where the CPI was highest"
      ],
      "execution_count": 9,
      "outputs": [
        {
          "output_type": "execute_result",
          "data": {
            "application/vnd.google.colaboratory.intrinsic+json": {
              "type": "string"
            },
            "text/plain": [
              "'2021-08-01'"
            ]
          },
          "metadata": {},
          "execution_count": 9
        }
      ]
    },
    {
      "cell_type": "code",
      "metadata": {
        "colab": {
          "base_uri": "https://localhost:8080/",
          "height": 419
        },
        "id": "cH9AZUETvJXl",
        "outputId": "22e4f2e6-5c17-4925-ee53-552cee47089d"
      },
      "source": [
        "df.isnull()\n",
        "#checking for null values"
      ],
      "execution_count": 10,
      "outputs": [
        {
          "output_type": "execute_result",
          "data": {
            "text/html": [
              "<div>\n",
              "<style scoped>\n",
              "    .dataframe tbody tr th:only-of-type {\n",
              "        vertical-align: middle;\n",
              "    }\n",
              "\n",
              "    .dataframe tbody tr th {\n",
              "        vertical-align: top;\n",
              "    }\n",
              "\n",
              "    .dataframe thead th {\n",
              "        text-align: right;\n",
              "    }\n",
              "</style>\n",
              "<table border=\"1\" class=\"dataframe\">\n",
              "  <thead>\n",
              "    <tr style=\"text-align: right;\">\n",
              "      <th></th>\n",
              "      <th>date</th>\n",
              "      <th>Total_CPI</th>\n",
              "      <th>Total_CPI.1</th>\n",
              "      <th>CPI_CHANGE</th>\n",
              "      <th>CPI_TRIM</th>\n",
              "      <th>CPI_MEDIAN</th>\n",
              "      <th>CPI_COMMON</th>\n",
              "      <th>CPIX</th>\n",
              "      <th>CPI_XFET</th>\n",
              "      <th>CPIW</th>\n",
              "    </tr>\n",
              "  </thead>\n",
              "  <tbody>\n",
              "    <tr>\n",
              "      <th>0</th>\n",
              "      <td>False</td>\n",
              "      <td>False</td>\n",
              "      <td>False</td>\n",
              "      <td>False</td>\n",
              "      <td>False</td>\n",
              "      <td>False</td>\n",
              "      <td>False</td>\n",
              "      <td>True</td>\n",
              "      <td>False</td>\n",
              "      <td>False</td>\n",
              "    </tr>\n",
              "    <tr>\n",
              "      <th>1</th>\n",
              "      <td>False</td>\n",
              "      <td>False</td>\n",
              "      <td>False</td>\n",
              "      <td>False</td>\n",
              "      <td>False</td>\n",
              "      <td>False</td>\n",
              "      <td>False</td>\n",
              "      <td>True</td>\n",
              "      <td>False</td>\n",
              "      <td>False</td>\n",
              "    </tr>\n",
              "    <tr>\n",
              "      <th>2</th>\n",
              "      <td>False</td>\n",
              "      <td>False</td>\n",
              "      <td>False</td>\n",
              "      <td>False</td>\n",
              "      <td>False</td>\n",
              "      <td>False</td>\n",
              "      <td>False</td>\n",
              "      <td>True</td>\n",
              "      <td>False</td>\n",
              "      <td>False</td>\n",
              "    </tr>\n",
              "    <tr>\n",
              "      <th>3</th>\n",
              "      <td>False</td>\n",
              "      <td>False</td>\n",
              "      <td>False</td>\n",
              "      <td>False</td>\n",
              "      <td>False</td>\n",
              "      <td>False</td>\n",
              "      <td>False</td>\n",
              "      <td>True</td>\n",
              "      <td>False</td>\n",
              "      <td>False</td>\n",
              "    </tr>\n",
              "    <tr>\n",
              "      <th>4</th>\n",
              "      <td>False</td>\n",
              "      <td>False</td>\n",
              "      <td>False</td>\n",
              "      <td>False</td>\n",
              "      <td>False</td>\n",
              "      <td>False</td>\n",
              "      <td>False</td>\n",
              "      <td>True</td>\n",
              "      <td>False</td>\n",
              "      <td>False</td>\n",
              "    </tr>\n",
              "    <tr>\n",
              "      <th>...</th>\n",
              "      <td>...</td>\n",
              "      <td>...</td>\n",
              "      <td>...</td>\n",
              "      <td>...</td>\n",
              "      <td>...</td>\n",
              "      <td>...</td>\n",
              "      <td>...</td>\n",
              "      <td>...</td>\n",
              "      <td>...</td>\n",
              "      <td>...</td>\n",
              "    </tr>\n",
              "    <tr>\n",
              "      <th>315</th>\n",
              "      <td>False</td>\n",
              "      <td>False</td>\n",
              "      <td>False</td>\n",
              "      <td>False</td>\n",
              "      <td>False</td>\n",
              "      <td>False</td>\n",
              "      <td>False</td>\n",
              "      <td>False</td>\n",
              "      <td>False</td>\n",
              "      <td>False</td>\n",
              "    </tr>\n",
              "    <tr>\n",
              "      <th>316</th>\n",
              "      <td>False</td>\n",
              "      <td>False</td>\n",
              "      <td>False</td>\n",
              "      <td>False</td>\n",
              "      <td>False</td>\n",
              "      <td>False</td>\n",
              "      <td>False</td>\n",
              "      <td>False</td>\n",
              "      <td>False</td>\n",
              "      <td>False</td>\n",
              "    </tr>\n",
              "    <tr>\n",
              "      <th>317</th>\n",
              "      <td>False</td>\n",
              "      <td>False</td>\n",
              "      <td>False</td>\n",
              "      <td>False</td>\n",
              "      <td>False</td>\n",
              "      <td>False</td>\n",
              "      <td>False</td>\n",
              "      <td>False</td>\n",
              "      <td>False</td>\n",
              "      <td>False</td>\n",
              "    </tr>\n",
              "    <tr>\n",
              "      <th>318</th>\n",
              "      <td>False</td>\n",
              "      <td>False</td>\n",
              "      <td>False</td>\n",
              "      <td>False</td>\n",
              "      <td>False</td>\n",
              "      <td>False</td>\n",
              "      <td>False</td>\n",
              "      <td>False</td>\n",
              "      <td>False</td>\n",
              "      <td>False</td>\n",
              "    </tr>\n",
              "    <tr>\n",
              "      <th>319</th>\n",
              "      <td>False</td>\n",
              "      <td>False</td>\n",
              "      <td>False</td>\n",
              "      <td>False</td>\n",
              "      <td>False</td>\n",
              "      <td>False</td>\n",
              "      <td>False</td>\n",
              "      <td>False</td>\n",
              "      <td>False</td>\n",
              "      <td>False</td>\n",
              "    </tr>\n",
              "  </tbody>\n",
              "</table>\n",
              "<p>320 rows × 10 columns</p>\n",
              "</div>"
            ],
            "text/plain": [
              "      date  Total_CPI  Total_CPI.1  ...   CPIX  CPI_XFET   CPIW\n",
              "0    False      False        False  ...   True     False  False\n",
              "1    False      False        False  ...   True     False  False\n",
              "2    False      False        False  ...   True     False  False\n",
              "3    False      False        False  ...   True     False  False\n",
              "4    False      False        False  ...   True     False  False\n",
              "..     ...        ...          ...  ...    ...       ...    ...\n",
              "315  False      False        False  ...  False     False  False\n",
              "316  False      False        False  ...  False     False  False\n",
              "317  False      False        False  ...  False     False  False\n",
              "318  False      False        False  ...  False     False  False\n",
              "319  False      False        False  ...  False     False  False\n",
              "\n",
              "[320 rows x 10 columns]"
            ]
          },
          "metadata": {},
          "execution_count": 10
        }
      ]
    },
    {
      "cell_type": "code",
      "metadata": {
        "colab": {
          "base_uri": "https://localhost:8080/",
          "height": 693
        },
        "id": "87CYd8Z3cZl3",
        "outputId": "d2e31ff2-7af2-4f1e-a0ad-27146bbd4b05"
      },
      "source": [
        "plt.figure(figsize=(10,5))\n",
        "cor= df.corr()\n",
        "sns.heatmap(cor,cmap=\"BrBG\",annot=True)\n",
        "cor\n",
        "\n",
        "#checking correcation of data to identify attributes that are highly correlated with each other"
      ],
      "execution_count": 11,
      "outputs": [
        {
          "output_type": "execute_result",
          "data": {
            "text/html": [
              "<div>\n",
              "<style scoped>\n",
              "    .dataframe tbody tr th:only-of-type {\n",
              "        vertical-align: middle;\n",
              "    }\n",
              "\n",
              "    .dataframe tbody tr th {\n",
              "        vertical-align: top;\n",
              "    }\n",
              "\n",
              "    .dataframe thead th {\n",
              "        text-align: right;\n",
              "    }\n",
              "</style>\n",
              "<table border=\"1\" class=\"dataframe\">\n",
              "  <thead>\n",
              "    <tr style=\"text-align: right;\">\n",
              "      <th></th>\n",
              "      <th>Total_CPI</th>\n",
              "      <th>Total_CPI.1</th>\n",
              "      <th>CPI_CHANGE</th>\n",
              "      <th>CPI_TRIM</th>\n",
              "      <th>CPI_MEDIAN</th>\n",
              "      <th>CPI_COMMON</th>\n",
              "      <th>CPIX</th>\n",
              "      <th>CPI_XFET</th>\n",
              "      <th>CPIW</th>\n",
              "    </tr>\n",
              "  </thead>\n",
              "  <tbody>\n",
              "    <tr>\n",
              "      <th>Total_CPI</th>\n",
              "      <td>1.000000</td>\n",
              "      <td>0.999750</td>\n",
              "      <td>-0.105974</td>\n",
              "      <td>0.208047</td>\n",
              "      <td>0.311711</td>\n",
              "      <td>-0.025982</td>\n",
              "      <td>-0.163817</td>\n",
              "      <td>-0.045210</td>\n",
              "      <td>0.048073</td>\n",
              "    </tr>\n",
              "    <tr>\n",
              "      <th>Total_CPI.1</th>\n",
              "      <td>0.999750</td>\n",
              "      <td>1.000000</td>\n",
              "      <td>-0.107339</td>\n",
              "      <td>0.207153</td>\n",
              "      <td>0.311404</td>\n",
              "      <td>-0.025684</td>\n",
              "      <td>-0.166175</td>\n",
              "      <td>-0.046479</td>\n",
              "      <td>0.046378</td>\n",
              "    </tr>\n",
              "    <tr>\n",
              "      <th>CPI_CHANGE</th>\n",
              "      <td>-0.105974</td>\n",
              "      <td>-0.107339</td>\n",
              "      <td>1.000000</td>\n",
              "      <td>0.496299</td>\n",
              "      <td>0.369052</td>\n",
              "      <td>0.177739</td>\n",
              "      <td>0.405576</td>\n",
              "      <td>0.527700</td>\n",
              "      <td>0.664834</td>\n",
              "    </tr>\n",
              "    <tr>\n",
              "      <th>CPI_TRIM</th>\n",
              "      <td>0.208047</td>\n",
              "      <td>0.207153</td>\n",
              "      <td>0.496299</td>\n",
              "      <td>1.000000</td>\n",
              "      <td>0.902208</td>\n",
              "      <td>0.562061</td>\n",
              "      <td>0.607177</td>\n",
              "      <td>0.658150</td>\n",
              "      <td>0.818318</td>\n",
              "    </tr>\n",
              "    <tr>\n",
              "      <th>CPI_MEDIAN</th>\n",
              "      <td>0.311711</td>\n",
              "      <td>0.311404</td>\n",
              "      <td>0.369052</td>\n",
              "      <td>0.902208</td>\n",
              "      <td>1.000000</td>\n",
              "      <td>0.648444</td>\n",
              "      <td>0.566539</td>\n",
              "      <td>0.503890</td>\n",
              "      <td>0.712924</td>\n",
              "    </tr>\n",
              "    <tr>\n",
              "      <th>CPI_COMMON</th>\n",
              "      <td>-0.025982</td>\n",
              "      <td>-0.025684</td>\n",
              "      <td>0.177739</td>\n",
              "      <td>0.562061</td>\n",
              "      <td>0.648444</td>\n",
              "      <td>1.000000</td>\n",
              "      <td>0.375300</td>\n",
              "      <td>0.192512</td>\n",
              "      <td>0.600054</td>\n",
              "    </tr>\n",
              "    <tr>\n",
              "      <th>CPIX</th>\n",
              "      <td>-0.163817</td>\n",
              "      <td>-0.166175</td>\n",
              "      <td>0.405576</td>\n",
              "      <td>0.607177</td>\n",
              "      <td>0.566539</td>\n",
              "      <td>0.375300</td>\n",
              "      <td>1.000000</td>\n",
              "      <td>0.746050</td>\n",
              "      <td>0.790238</td>\n",
              "    </tr>\n",
              "    <tr>\n",
              "      <th>CPI_XFET</th>\n",
              "      <td>-0.045210</td>\n",
              "      <td>-0.046479</td>\n",
              "      <td>0.527700</td>\n",
              "      <td>0.658150</td>\n",
              "      <td>0.503890</td>\n",
              "      <td>0.192512</td>\n",
              "      <td>0.746050</td>\n",
              "      <td>1.000000</td>\n",
              "      <td>0.738799</td>\n",
              "    </tr>\n",
              "    <tr>\n",
              "      <th>CPIW</th>\n",
              "      <td>0.048073</td>\n",
              "      <td>0.046378</td>\n",
              "      <td>0.664834</td>\n",
              "      <td>0.818318</td>\n",
              "      <td>0.712924</td>\n",
              "      <td>0.600054</td>\n",
              "      <td>0.790238</td>\n",
              "      <td>0.738799</td>\n",
              "      <td>1.000000</td>\n",
              "    </tr>\n",
              "  </tbody>\n",
              "</table>\n",
              "</div>"
            ],
            "text/plain": [
              "             Total_CPI  Total_CPI.1  CPI_CHANGE  ...      CPIX  CPI_XFET      CPIW\n",
              "Total_CPI     1.000000     0.999750   -0.105974  ... -0.163817 -0.045210  0.048073\n",
              "Total_CPI.1   0.999750     1.000000   -0.107339  ... -0.166175 -0.046479  0.046378\n",
              "CPI_CHANGE   -0.105974    -0.107339    1.000000  ...  0.405576  0.527700  0.664834\n",
              "CPI_TRIM      0.208047     0.207153    0.496299  ...  0.607177  0.658150  0.818318\n",
              "CPI_MEDIAN    0.311711     0.311404    0.369052  ...  0.566539  0.503890  0.712924\n",
              "CPI_COMMON   -0.025982    -0.025684    0.177739  ...  0.375300  0.192512  0.600054\n",
              "CPIX         -0.163817    -0.166175    0.405576  ...  1.000000  0.746050  0.790238\n",
              "CPI_XFET     -0.045210    -0.046479    0.527700  ...  0.746050  1.000000  0.738799\n",
              "CPIW          0.048073     0.046378    0.664834  ...  0.790238  0.738799  1.000000\n",
              "\n",
              "[9 rows x 9 columns]"
            ]
          },
          "metadata": {},
          "execution_count": 11
        },
        {
          "output_type": "display_data",
          "data": {
            "image/png": "[encoded data removed]",
            "text/plain": [
              "<Figure size 720x360 with 2 Axes>"
            ]
          },
          "metadata": {
            "needs_background": "light"
          }
        }
      ]
    },
    {
      "cell_type": "code",
      "metadata": {
        "colab": {
          "base_uri": "https://localhost:8080/",
          "height": 204
        },
        "id": "teYwGZ2lc1IS",
        "outputId": "9b7319c8-84d7-4959-862a-3b90b668012a"
      },
      "source": [
        "df = df.drop(['Total_CPI','CPI_MEDIAN', 'Total_CPI.1','CPI_COMMON'], axis=1)\n",
        "df.head(5)"
      ],
      "execution_count": 12,
      "outputs": [
        {
          "output_type": "execute_result",
          "data": {
            "text/html": [
              "<div>\n",
              "<style scoped>\n",
              "    .dataframe tbody tr th:only-of-type {\n",
              "        vertical-align: middle;\n",
              "    }\n",
              "\n",
              "    .dataframe tbody tr th {\n",
              "        vertical-align: top;\n",
              "    }\n",
              "\n",
              "    .dataframe thead th {\n",
              "        text-align: right;\n",
              "    }\n",
              "</style>\n",
              "<table border=\"1\" class=\"dataframe\">\n",
              "  <thead>\n",
              "    <tr style=\"text-align: right;\">\n",
              "      <th></th>\n",
              "      <th>date</th>\n",
              "      <th>CPI_CHANGE</th>\n",
              "      <th>CPI_TRIM</th>\n",
              "      <th>CPIX</th>\n",
              "      <th>CPI_XFET</th>\n",
              "      <th>CPIW</th>\n",
              "    </tr>\n",
              "  </thead>\n",
              "  <tbody>\n",
              "    <tr>\n",
              "      <th>0</th>\n",
              "      <td>1995-01-01</td>\n",
              "      <td>0.6</td>\n",
              "      <td>1.8</td>\n",
              "      <td>NaN</td>\n",
              "      <td>2.2</td>\n",
              "      <td>1.7</td>\n",
              "    </tr>\n",
              "    <tr>\n",
              "      <th>1</th>\n",
              "      <td>1995-02-01</td>\n",
              "      <td>1.9</td>\n",
              "      <td>1.9</td>\n",
              "      <td>NaN</td>\n",
              "      <td>1.8</td>\n",
              "      <td>1.7</td>\n",
              "    </tr>\n",
              "    <tr>\n",
              "      <th>2</th>\n",
              "      <td>1995-03-01</td>\n",
              "      <td>2.1</td>\n",
              "      <td>2.0</td>\n",
              "      <td>NaN</td>\n",
              "      <td>2.1</td>\n",
              "      <td>1.9</td>\n",
              "    </tr>\n",
              "    <tr>\n",
              "      <th>3</th>\n",
              "      <td>1995-04-01</td>\n",
              "      <td>2.5</td>\n",
              "      <td>2.1</td>\n",
              "      <td>NaN</td>\n",
              "      <td>2.1</td>\n",
              "      <td>2.0</td>\n",
              "    </tr>\n",
              "    <tr>\n",
              "      <th>4</th>\n",
              "      <td>1995-05-01</td>\n",
              "      <td>2.9</td>\n",
              "      <td>2.3</td>\n",
              "      <td>NaN</td>\n",
              "      <td>2.5</td>\n",
              "      <td>2.2</td>\n",
              "    </tr>\n",
              "  </tbody>\n",
              "</table>\n",
              "</div>"
            ],
            "text/plain": [
              "         date  CPI_CHANGE  CPI_TRIM  CPIX  CPI_XFET  CPIW\n",
              "0  1995-01-01         0.6       1.8   NaN       2.2   1.7\n",
              "1  1995-02-01         1.9       1.9   NaN       1.8   1.7\n",
              "2  1995-03-01         2.1       2.0   NaN       2.1   1.9\n",
              "3  1995-04-01         2.5       2.1   NaN       2.1   2.0\n",
              "4  1995-05-01         2.9       2.3   NaN       2.5   2.2"
            ]
          },
          "metadata": {},
          "execution_count": 12
        }
      ]
    },
    {
      "cell_type": "code",
      "metadata": {
        "colab": {
          "base_uri": "https://localhost:8080/",
          "height": 512
        },
        "id": "91HgPJRfdT3S",
        "outputId": "5a83b89d-5ed9-46da-82c6-5737175c4804"
      },
      "source": [
        "plt.figure(figsize=(10,5))\n",
        "c= df.corr()\n",
        "sns.heatmap(c,cmap=\"BrBG\",annot=True)\n",
        "c"
      ],
      "execution_count": 13,
      "outputs": [
        {
          "output_type": "execute_result",
          "data": {
            "text/html": [
              "<div>\n",
              "<style scoped>\n",
              "    .dataframe tbody tr th:only-of-type {\n",
              "        vertical-align: middle;\n",
              "    }\n",
              "\n",
              "    .dataframe tbody tr th {\n",
              "        vertical-align: top;\n",
              "    }\n",
              "\n",
              "    .dataframe thead th {\n",
              "        text-align: right;\n",
              "    }\n",
              "</style>\n",
              "<table border=\"1\" class=\"dataframe\">\n",
              "  <thead>\n",
              "    <tr style=\"text-align: right;\">\n",
              "      <th></th>\n",
              "      <th>CPI_CHANGE</th>\n",
              "      <th>CPI_TRIM</th>\n",
              "      <th>CPIX</th>\n",
              "      <th>CPI_XFET</th>\n",
              "      <th>CPIW</th>\n",
              "    </tr>\n",
              "  </thead>\n",
              "  <tbody>\n",
              "    <tr>\n",
              "      <th>CPI_CHANGE</th>\n",
              "      <td>1.000000</td>\n",
              "      <td>0.496299</td>\n",
              "      <td>0.405576</td>\n",
              "      <td>0.527700</td>\n",
              "      <td>0.664834</td>\n",
              "    </tr>\n",
              "    <tr>\n",
              "      <th>CPI_TRIM</th>\n",
              "      <td>0.496299</td>\n",
              "      <td>1.000000</td>\n",
              "      <td>0.607177</td>\n",
              "      <td>0.658150</td>\n",
              "      <td>0.818318</td>\n",
              "    </tr>\n",
              "    <tr>\n",
              "      <th>CPIX</th>\n",
              "      <td>0.405576</td>\n",
              "      <td>0.607177</td>\n",
              "      <td>1.000000</td>\n",
              "      <td>0.746050</td>\n",
              "      <td>0.790238</td>\n",
              "    </tr>\n",
              "    <tr>\n",
              "      <th>CPI_XFET</th>\n",
              "      <td>0.527700</td>\n",
              "      <td>0.658150</td>\n",
              "      <td>0.746050</td>\n",
              "      <td>1.000000</td>\n",
              "      <td>0.738799</td>\n",
              "    </tr>\n",
              "    <tr>\n",
              "      <th>CPIW</th>\n",
              "      <td>0.664834</td>\n",
              "      <td>0.818318</td>\n",
              "      <td>0.790238</td>\n",
              "      <td>0.738799</td>\n",
              "      <td>1.000000</td>\n",
              "    </tr>\n",
              "  </tbody>\n",
              "</table>\n",
              "</div>"
            ],
            "text/plain": [
              "            CPI_CHANGE  CPI_TRIM      CPIX  CPI_XFET      CPIW\n",
              "CPI_CHANGE    1.000000  0.496299  0.405576  0.527700  0.664834\n",
              "CPI_TRIM      0.496299  1.000000  0.607177  0.658150  0.818318\n",
              "CPIX          0.405576  0.607177  1.000000  0.746050  0.790238\n",
              "CPI_XFET      0.527700  0.658150  0.746050  1.000000  0.738799\n",
              "CPIW          0.664834  0.818318  0.790238  0.738799  1.000000"
            ]
          },
          "metadata": {},
          "execution_count": 13
        },
        {
          "output_type": "display_data",
          "data": {
            "image/png": "[encoded data removed]",
            "text/plain": [
              "<Figure size 720x360 with 2 Axes>"
            ]
          },
          "metadata": {
            "needs_background": "light"
          }
        }
      ]
    },
    {
      "cell_type": "code",
      "metadata": {
        "colab": {
          "base_uri": "https://localhost:8080/",
          "height": 923
        },
        "id": "MSkgron_Vbdx",
        "outputId": "acead874-c0d8-4136-d6ed-cdc864c3ee7c"
      },
      "source": [
        "fig, ax = plt.subplots(figsize=(10,6))\n",
        "ax.scatter(df['date'], df['CPI_MEDIAN'])\n",
        "ax.set_xlabel('date')\n",
        "ax.set_ylabel('CPI_CHANGE')\n",
        "plt.show()\n",
        "\n",
        "#scatter plot of CPI Change data"
      ],
      "execution_count": 14,
      "outputs": [
        {
          "output_type": "error",
          "ename": "KeyError",
          "evalue": "ignored",
          "traceback": [
            "\u001b[0;31m---------------------------------------------------------------------------\u001b[0m",
            "\u001b[0;31mKeyError\u001b[0m                                  Traceback (most recent call last)",
            "\u001b[0;32m/usr/local/lib/python3.7/dist-packages/pandas/core/indexes/base.py\u001b[0m in \u001b[0;36mget_loc\u001b[0;34m(self, key, method, tolerance)\u001b[0m\n\u001b[1;32m   2897\u001b[0m             \u001b[0;32mtry\u001b[0m\u001b[0;34m:\u001b[0m\u001b[0;34m\u001b[0m\u001b[0;34m\u001b[0m\u001b[0m\n\u001b[0;32m-> 2898\u001b[0;31m                 \u001b[0;32mreturn\u001b[0m \u001b[0mself\u001b[0m\u001b[0;34m.\u001b[0m\u001b[0m_engine\u001b[0m\u001b[0;34m.\u001b[0m\u001b[0mget_loc\u001b[0m\u001b[0;34m(\u001b[0m\u001b[0mcasted_key\u001b[0m\u001b[0;34m)\u001b[0m\u001b[0;34m\u001b[0m\u001b[0;34m\u001b[0m\u001b[0m\n\u001b[0m\u001b[1;32m   2899\u001b[0m             \u001b[0;32mexcept\u001b[0m \u001b[0mKeyError\u001b[0m \u001b[0;32mas\u001b[0m \u001b[0merr\u001b[0m\u001b[0;34m:\u001b[0m\u001b[0;34m\u001b[0m\u001b[0;34m\u001b[0m\u001b[0m\n",
            "\u001b[0;32mpandas/_libs/index.pyx\u001b[0m in \u001b[0;36mpandas._libs.index.IndexEngine.get_loc\u001b[0;34m()\u001b[0m\n",
            "\u001b[0;32mpandas/_libs/index.pyx\u001b[0m in \u001b[0;36mpandas._libs.index.IndexEngine.get_loc\u001b[0;34m()\u001b[0m\n",
            "\u001b[0;32mpandas/_libs/hashtable_class_helper.pxi\u001b[0m in \u001b[0;36mpandas._libs.hashtable.PyObjectHashTable.get_item\u001b[0;34m()\u001b[0m\n",
            "\u001b[0;32mpandas/_libs/hashtable_class_helper.pxi\u001b[0m in \u001b[0;36mpandas._libs.hashtable.PyObjectHashTable.get_item\u001b[0;34m()\u001b[0m\n",
            "\u001b[0;31mKeyError\u001b[0m: 'CPI_MEDIAN'",
            "\nThe above exception was the direct cause of the following exception:\n",
            "\u001b[0;31mKeyError\u001b[0m                                  Traceback (most recent call last)",
            "\u001b[0;32m<ipython-input-14-6ebe5ee6f9cd>\u001b[0m in \u001b[0;36m<module>\u001b[0;34m()\u001b[0m\n\u001b[1;32m      1\u001b[0m \u001b[0mfig\u001b[0m\u001b[0;34m,\u001b[0m \u001b[0max\u001b[0m \u001b[0;34m=\u001b[0m \u001b[0mplt\u001b[0m\u001b[0;34m.\u001b[0m\u001b[0msubplots\u001b[0m\u001b[0;34m(\u001b[0m\u001b[0mfigsize\u001b[0m\u001b[0;34m=\u001b[0m\u001b[0;34m(\u001b[0m\u001b[0;36m10\u001b[0m\u001b[0;34m,\u001b[0m\u001b[0;36m6\u001b[0m\u001b[0;34m)\u001b[0m\u001b[0;34m)\u001b[0m\u001b[0;34m\u001b[0m\u001b[0;34m\u001b[0m\u001b[0m\n\u001b[0;32m----> 2\u001b[0;31m \u001b[0max\u001b[0m\u001b[0;34m.\u001b[0m\u001b[0mscatter\u001b[0m\u001b[0;34m(\u001b[0m\u001b[0mdf\u001b[0m\u001b[0;34m[\u001b[0m\u001b[0;34m'date'\u001b[0m\u001b[0;34m]\u001b[0m\u001b[0;34m,\u001b[0m \u001b[0mdf\u001b[0m\u001b[0;34m[\u001b[0m\u001b[0;34m'CPI_MEDIAN'\u001b[0m\u001b[0;34m]\u001b[0m\u001b[0;34m)\u001b[0m\u001b[0;34m\u001b[0m\u001b[0;34m\u001b[0m\u001b[0m\n\u001b[0m\u001b[1;32m      3\u001b[0m \u001b[0max\u001b[0m\u001b[0;34m.\u001b[0m\u001b[0mset_xlabel\u001b[0m\u001b[0;34m(\u001b[0m\u001b[0;34m'date'\u001b[0m\u001b[0;34m)\u001b[0m\u001b[0;34m\u001b[0m\u001b[0;34m\u001b[0m\u001b[0m\n\u001b[1;32m      4\u001b[0m \u001b[0max\u001b[0m\u001b[0;34m.\u001b[0m\u001b[0mset_ylabel\u001b[0m\u001b[0;34m(\u001b[0m\u001b[0;34m'CPI_CHANGE'\u001b[0m\u001b[0;34m)\u001b[0m\u001b[0;34m\u001b[0m\u001b[0;34m\u001b[0m\u001b[0m\n\u001b[1;32m      5\u001b[0m \u001b[0mplt\u001b[0m\u001b[0;34m.\u001b[0m\u001b[0mshow\u001b[0m\u001b[0;34m(\u001b[0m\u001b[0;34m)\u001b[0m\u001b[0;34m\u001b[0m\u001b[0;34m\u001b[0m\u001b[0m\n",
            "\u001b[0;32m/usr/local/lib/python3.7/dist-packages/pandas/core/frame.py\u001b[0m in \u001b[0;36m__getitem__\u001b[0;34m(self, key)\u001b[0m\n\u001b[1;32m   2904\u001b[0m             \u001b[0;32mif\u001b[0m \u001b[0mself\u001b[0m\u001b[0;34m.\u001b[0m\u001b[0mcolumns\u001b[0m\u001b[0;34m.\u001b[0m\u001b[0mnlevels\u001b[0m \u001b[0;34m>\u001b[0m \u001b[0;36m1\u001b[0m\u001b[0;34m:\u001b[0m\u001b[0;34m\u001b[0m\u001b[0;34m\u001b[0m\u001b[0m\n\u001b[1;32m   2905\u001b[0m                 \u001b[0;32mreturn\u001b[0m \u001b[0mself\u001b[0m\u001b[0;34m.\u001b[0m\u001b[0m_getitem_multilevel\u001b[0m\u001b[0;34m(\u001b[0m\u001b[0mkey\u001b[0m\u001b[0;34m)\u001b[0m\u001b[0;34m\u001b[0m\u001b[0;34m\u001b[0m\u001b[0m\n\u001b[0;32m-> 2906\u001b[0;31m             \u001b[0mindexer\u001b[0m \u001b[0;34m=\u001b[0m \u001b[0mself\u001b[0m\u001b[0;34m.\u001b[0m\u001b[0mcolumns\u001b[0m\u001b[0;34m.\u001b[0m\u001b[0mget_loc\u001b[0m\u001b[0;34m(\u001b[0m\u001b[0mkey\u001b[0m\u001b[0;34m)\u001b[0m\u001b[0;34m\u001b[0m\u001b[0;34m\u001b[0m\u001b[0m\n\u001b[0m\u001b[1;32m   2907\u001b[0m             \u001b[0;32mif\u001b[0m \u001b[0mis_integer\u001b[0m\u001b[0;34m(\u001b[0m\u001b[0mindexer\u001b[0m\u001b[0;34m)\u001b[0m\u001b[0;34m:\u001b[0m\u001b[0;34m\u001b[0m\u001b[0;34m\u001b[0m\u001b[0m\n\u001b[1;32m   2908\u001b[0m                 \u001b[0mindexer\u001b[0m \u001b[0;34m=\u001b[0m \u001b[0;34m[\u001b[0m\u001b[0mindexer\u001b[0m\u001b[0;34m]\u001b[0m\u001b[0;34m\u001b[0m\u001b[0;34m\u001b[0m\u001b[0m\n",
            "\u001b[0;32m/usr/local/lib/python3.7/dist-packages/pandas/core/indexes/base.py\u001b[0m in \u001b[0;36mget_loc\u001b[0;34m(self, key, method, tolerance)\u001b[0m\n\u001b[1;32m   2898\u001b[0m                 \u001b[0;32mreturn\u001b[0m \u001b[0mself\u001b[0m\u001b[0;34m.\u001b[0m\u001b[0m_engine\u001b[0m\u001b[0;34m.\u001b[0m\u001b[0mget_loc\u001b[0m\u001b[0;34m(\u001b[0m\u001b[0mcasted_key\u001b[0m\u001b[0;34m)\u001b[0m\u001b[0;34m\u001b[0m\u001b[0;34m\u001b[0m\u001b[0m\n\u001b[1;32m   2899\u001b[0m             \u001b[0;32mexcept\u001b[0m \u001b[0mKeyError\u001b[0m \u001b[0;32mas\u001b[0m \u001b[0merr\u001b[0m\u001b[0;34m:\u001b[0m\u001b[0;34m\u001b[0m\u001b[0;34m\u001b[0m\u001b[0m\n\u001b[0;32m-> 2900\u001b[0;31m                 \u001b[0;32mraise\u001b[0m \u001b[0mKeyError\u001b[0m\u001b[0;34m(\u001b[0m\u001b[0mkey\u001b[0m\u001b[0;34m)\u001b[0m \u001b[0;32mfrom\u001b[0m \u001b[0merr\u001b[0m\u001b[0;34m\u001b[0m\u001b[0;34m\u001b[0m\u001b[0m\n\u001b[0m\u001b[1;32m   2901\u001b[0m \u001b[0;34m\u001b[0m\u001b[0m\n\u001b[1;32m   2902\u001b[0m         \u001b[0;32mif\u001b[0m \u001b[0mtolerance\u001b[0m \u001b[0;32mis\u001b[0m \u001b[0;32mnot\u001b[0m \u001b[0;32mNone\u001b[0m\u001b[0;34m:\u001b[0m\u001b[0;34m\u001b[0m\u001b[0;34m\u001b[0m\u001b[0m\n",
            "\u001b[0;31mKeyError\u001b[0m: 'CPI_MEDIAN'"
          ]
        },
        {
          "output_type": "display_data",
          "data": {
            "image/png": "[encoded data removed]",
            "text/plain": [
              "<Figure size 720x432 with 1 Axes>"
            ]
          },
          "metadata": {
            "needs_background": "light"
          }
        }
      ]
    },
    {
      "cell_type": "code",
      "metadata": {
        "id": "3rFAOLBDXpua"
      },
      "source": [
        "date_CPI_Median_Min = df.groupby('date')['CPI_CHANGE'].min().plot(kind = 'line', legend = True, figsize = (20,7),marker = 'v')\n",
        "date_CPI_Median_Max = df.groupby('date')['CPI_CHANGE'].max().plot(kind = 'line', legend = True, figsize = (20,7),marker = 'o')\n",
        "date_CPI_Median_avg = df.groupby('date')['CPI_CHANGE'].std().plot(kind = 'line', legend = True, figsize = (20,7),marker = 'D')\n",
        "plt.title('Min, Max and STD of CPI CHANGE by date')"
      ],
      "execution_count": null,
      "outputs": []
    }
  ]
}